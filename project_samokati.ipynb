{
 "cells": [
  {
   "cell_type": "markdown",
   "id": "5f016c75-ab1d-44e6-9a38-159fb8b06522",
   "metadata": {},
   "source": [
    "# Исследование сервиса аренды самокатов GoFast\n",
    "Вы аналитик популярного сервиса аренды самокатов GoFast. Вам передали данные о некоторых пользователях из нескольких городов, а также об их поездках. Проанализируйте данные и проверьте некоторые гипотезы, которые могут помочь бизнесу вырасти.\n",
    "\n",
    "Чтобы совершать поездки по городу, пользователи сервиса GoFast пользуются мобильным приложением. Сервисом можно пользоватья:\n",
    "* без подписки\n",
    "    * абонентская плата отсутствует;   \n",
    "    * стоимость одной минуты поездки — 8 рублей;   \n",
    "    * стоимость старта (начала поездки) — 50 рублей;   \n",
    "* с подпиской Ultra   \n",
    "    * абонентская плата — 199 рублей в месяц;   \n",
    "    * стоимость одной минуты поездки — 6 рублей;   \n",
    "    * стоимость старта — бесплатно.   арта — бесплатно."
   ]
  },
  {
   "cell_type": "markdown",
   "id": "567beeba-ab15-4d45-8c50-37609ea96c95",
   "metadata": {},
   "source": [
    "## Описание данных\n",
    "В основных данных есть информация о пользователях, их поездках и подписках:\n",
    "\n",
    "**Пользователи — `users_go.csv`**\n",
    "\n",
    "`user_id` - уникальный идентификатор пользователя\\\n",
    "`name` - имя пользователя\\\n",
    "`age` - возраст\\\n",
    "`city` - город\\\n",
    "`subscription_type` - тип подписки (free, ultra)\n",
    "\n",
    "**Поездки — `rides_go.csv`**\n",
    "\n",
    "`user_id` - уникальный идентификатор пользователя\\\n",
    "`distance` - расстояние, которое пользователь проехал в текущей сессии (в метрах)\\\n",
    "`duration` - продолжительность сессии (в минутах) — время с того момента, как пользователь нажал кнопку «Начать поездку» до момента, как он нажал кнопку «Завершить поездку»\\\n",
    "`date` - дата совершения поездки\n",
    "\n",
    "**Подписки — `subscriptions_go.csv`**\n",
    "\n",
    "`subscription_type` - тип подписки\\\n",
    "`minute_price` - стоимость одной минуты поездки по данной подписке\\\n",
    "`start_ride_price` - стоимость начала поездки\\\n",
    "`subscription_fee` - стоимость ежемесячного платежа"
   ]
  },
  {
   "cell_type": "markdown",
   "id": "c42cbe00",
   "metadata": {},
   "source": [
    "#### Шаг 1. Загрузка данных"
   ]
  },
  {
   "cell_type": "markdown",
   "id": "6b0fd319-76b9-4fdd-9b91-57d5f0edb870",
   "metadata": {},
   "source": [
    "**Загружаем необходимые библиотеки**"
   ]
  },
  {
   "cell_type": "code",
   "execution_count": 1,
   "id": "2d44bc52-92a0-4c74-9233-98fd3498468a",
   "metadata": {},
   "outputs": [],
   "source": [
    "import pandas as pd\n",
    "import matplotlib.pyplot as plt\n",
    "import seaborn as sns\n",
    "import numpy as np\n",
    "from scipy import stats as st"
   ]
  },
  {
   "cell_type": "markdown",
   "id": "144100b5-1694-48a3-a6f4-dc073770eaf8",
   "metadata": {},
   "source": [
    "**Считаем CSV-файл `users_go.csv` и сохраним его в датафрейм `users`**"
   ]
  },
  {
   "cell_type": "code",
   "execution_count": 2,
   "id": "0a83ce31-d5cb-473a-be51-2e6c88964fef",
   "metadata": {},
   "outputs": [],
   "source": [
    "try:\n",
    "    users = pd.read_csv('/datasets/users_go.csv')\n",
    "except:\n",
    "    users = pd.read_csv('users_go.csv')"
   ]
  },
  {
   "cell_type": "markdown",
   "id": "96994ea3-f33e-4978-a03f-c9a65b1c50ba",
   "metadata": {},
   "source": [
    "**Считаем CSV-файл `rides_go.csv` и сохраним его в датафрейм `rides`**"
   ]
  },
  {
   "cell_type": "code",
   "execution_count": 3,
   "id": "37af87db-fb19-48ef-ad58-c5b52e5ecf63",
   "metadata": {},
   "outputs": [],
   "source": [
    "try:\n",
    "    rides = pd.read_csv('/datasets/rides_go.csv')\n",
    "except:\n",
    "    rides = pd.read_csv('rides_go.csv')"
   ]
  },
  {
   "cell_type": "markdown",
   "id": "e2602249-fff8-4d53-a88f-b95c1b6fb9e7",
   "metadata": {},
   "source": [
    "**Считаем CSV-файл `subscriptions_go.csv` и сохраним его в датафрейм `subscriptions`**"
   ]
  },
  {
   "cell_type": "code",
   "execution_count": 4,
   "id": "eff9f206",
   "metadata": {
    "scrolled": true
   },
   "outputs": [],
   "source": [
    "try:\n",
    "    subscriptions = pd.read_csv('/datasets/subscriptions_go.csv')\n",
    "except:\n",
    "    subscriptions = pd.read_csv('subscriptions_go.csv')"
   ]
  },
  {
   "cell_type": "markdown",
   "id": "56b1d15c-062b-49f4-89ba-57cfd3829025",
   "metadata": {},
   "source": [
    "**Изучим общую информацию о каждом датафрейме**"
   ]
  },
  {
   "cell_type": "code",
   "execution_count": 5,
   "id": "cda08ade-908a-45b7-a684-fb28f17b9572",
   "metadata": {},
   "outputs": [
    {
     "name": "stdout",
     "output_type": "stream",
     "text": [
      "   user_id        name  age            city subscription_type\n",
      "0        1        Кира   22          Тюмень             ultra\n",
      "1        2   Станислав   31            Омск             ultra\n",
      "2        3     Алексей   20          Москва             ultra\n",
      "3        4  Константин   26  Ростов-на-Дону             ultra\n",
      "4        5       Адель   28            Омск             ultra\n",
      "<class 'pandas.core.frame.DataFrame'>\n",
      "RangeIndex: 1565 entries, 0 to 1564\n",
      "Data columns (total 5 columns):\n",
      " #   Column             Non-Null Count  Dtype \n",
      "---  ------             --------------  ----- \n",
      " 0   user_id            1565 non-null   int64 \n",
      " 1   name               1565 non-null   object\n",
      " 2   age                1565 non-null   int64 \n",
      " 3   city               1565 non-null   object\n",
      " 4   subscription_type  1565 non-null   object\n",
      "dtypes: int64(2), object(3)\n",
      "memory usage: 61.3+ KB\n",
      "None\n"
     ]
    },
    {
     "data": {
      "image/png": "[encoded data removed]",
      "text/plain": [
       "<Figure size 720x360 with 2 Axes>"
      ]
     },
     "metadata": {
      "needs_background": "light"
     },
     "output_type": "display_data"
    }
   ],
   "source": [
    "# Датафрейм users\n",
    "def information(dataset):\n",
    "    print(dataset.head())\n",
    "    print(dataset.info())\n",
    "    dataset.hist(figsize = (10,5))\n",
    "    plt.show()\n",
    "information(users)"
   ]
  },
  {
   "cell_type": "markdown",
   "id": "f569b9d1-c014-4ce3-852b-abe65794b734",
   "metadata": {},
   "source": [
    "**На гистограмме `age` можно увидеть самый популярный интервал - от 24 до 27. Реже всего встречаются пользователи старше 37 лет.**"
   ]
  },
  {
   "cell_type": "code",
   "execution_count": 6,
   "id": "358184d4-caf1-4842-ac97-c6b5ff0edb87",
   "metadata": {},
   "outputs": [
    {
     "name": "stdout",
     "output_type": "stream",
     "text": [
      "   user_id     distance   duration        date\n",
      "0        1  4409.919140  25.599769  2021-01-01\n",
      "1        1  2617.592153  15.816871  2021-01-18\n",
      "2        1   754.159807   6.232113  2021-04-20\n",
      "3        1  2694.783254  18.511000  2021-08-11\n",
      "4        1  4028.687306  26.265803  2021-08-28\n",
      "<class 'pandas.core.frame.DataFrame'>\n",
      "RangeIndex: 18068 entries, 0 to 18067\n",
      "Data columns (total 4 columns):\n",
      " #   Column    Non-Null Count  Dtype  \n",
      "---  ------    --------------  -----  \n",
      " 0   user_id   18068 non-null  int64  \n",
      " 1   distance  18068 non-null  float64\n",
      " 2   duration  18068 non-null  float64\n",
      " 3   date      18068 non-null  object \n",
      "dtypes: float64(2), int64(1), object(1)\n",
      "memory usage: 564.8+ KB\n",
      "None\n"
     ]
    },
    {
     "data": {
      "image/png": "[encoded data removed]",
      "text/plain": [
       "<Figure size 720x360 with 4 Axes>"
      ]
     },
     "metadata": {
      "needs_background": "light"
     },
     "output_type": "display_data"
    }
   ],
   "source": [
    "# Датафрейм rides\n",
    "# def information(dataset):\n",
    "#     print(dataset.head())\n",
    "#     print(dataset.info())\n",
    "#     dataset.hist(figsize = (10,5))\n",
    "#     plt.show()\n",
    "information(rides)"
   ]
  },
  {
   "cell_type": "markdown",
   "id": "620bf539-56c3-4dd7-9da2-b5769c3531b9",
   "metadata": {},
   "source": [
    "**Гистограмма столбца `user_id` описывает количество поездок на самокате по каждому id, большинство поездок приходится на пользователей с id больше 750. `distance` показывает, какое расстояние чаще всего проезжают пользователи, пик приходится на интервал от 3000 до 3500 метров. `duration` характеризует продолжительность поездки, самые популярные значения 17 - 20 минут.**"
   ]
  },
  {
   "cell_type": "code",
   "execution_count": 7,
   "id": "007e92a7-5bf2-48cd-bcf6-6f9f0bcb7236",
   "metadata": {},
   "outputs": [
    {
     "name": "stdout",
     "output_type": "stream",
     "text": [
      "  subscription_type  minute_price  start_ride_price  subscription_fee\n",
      "0              free             8                50                 0\n",
      "1             ultra             6                 0               199\n",
      "<class 'pandas.core.frame.DataFrame'>\n",
      "RangeIndex: 2 entries, 0 to 1\n",
      "Data columns (total 4 columns):\n",
      " #   Column             Non-Null Count  Dtype \n",
      "---  ------             --------------  ----- \n",
      " 0   subscription_type  2 non-null      object\n",
      " 1   minute_price       2 non-null      int64 \n",
      " 2   start_ride_price   2 non-null      int64 \n",
      " 3   subscription_fee   2 non-null      int64 \n",
      "dtypes: int64(3), object(1)\n",
      "memory usage: 192.0+ bytes\n",
      "None\n"
     ]
    }
   ],
   "source": [
    "# Датафрейм subscriptions\n",
    "def information(dataset):\n",
    "    print(dataset.head())\n",
    "    print(dataset.info())\n",
    "information(subscriptions)"
   ]
  },
  {
   "cell_type": "markdown",
   "id": "e95ebca7",
   "metadata": {},
   "source": [
    "#### Шаг 2. Предобработка данных"
   ]
  },
  {
   "cell_type": "code",
   "execution_count": 8,
   "id": "af6d202c",
   "metadata": {},
   "outputs": [],
   "source": [
    "# Приведём столбец date к типу даты\n",
    "rides['date'] = pd.to_datetime(rides['date'], format = '%Y-%m-%d')"
   ]
  },
  {
   "cell_type": "code",
   "execution_count": 9,
   "id": "a8acf8ec-6a94-4deb-a341-581e2044ac83",
   "metadata": {},
   "outputs": [
    {
     "data": {
      "text/html": [
       "<div>\n",
       "<style scoped>\n",
       "    .dataframe tbody tr th:only-of-type {\n",
       "        vertical-align: middle;\n",
       "    }\n",
       "\n",
       "    .dataframe tbody tr th {\n",
       "        vertical-align: top;\n",
       "    }\n",
       "\n",
       "    .dataframe thead th {\n",
       "        text-align: right;\n",
       "    }\n",
       "</style>\n",
       "<table border=\"1\" class=\"dataframe\">\n",
       "  <thead>\n",
       "    <tr style=\"text-align: right;\">\n",
       "      <th></th>\n",
       "      <th>user_id</th>\n",
       "      <th>distance</th>\n",
       "      <th>duration</th>\n",
       "      <th>date</th>\n",
       "      <th>month</th>\n",
       "    </tr>\n",
       "  </thead>\n",
       "  <tbody>\n",
       "    <tr>\n",
       "      <th>0</th>\n",
       "      <td>1</td>\n",
       "      <td>4409.919140</td>\n",
       "      <td>25.599769</td>\n",
       "      <td>2021-01-01</td>\n",
       "      <td>1</td>\n",
       "    </tr>\n",
       "    <tr>\n",
       "      <th>1</th>\n",
       "      <td>1</td>\n",
       "      <td>2617.592153</td>\n",
       "      <td>15.816871</td>\n",
       "      <td>2021-01-18</td>\n",
       "      <td>1</td>\n",
       "    </tr>\n",
       "    <tr>\n",
       "      <th>2</th>\n",
       "      <td>1</td>\n",
       "      <td>754.159807</td>\n",
       "      <td>6.232113</td>\n",
       "      <td>2021-04-20</td>\n",
       "      <td>4</td>\n",
       "    </tr>\n",
       "    <tr>\n",
       "      <th>3</th>\n",
       "      <td>1</td>\n",
       "      <td>2694.783254</td>\n",
       "      <td>18.511000</td>\n",
       "      <td>2021-08-11</td>\n",
       "      <td>8</td>\n",
       "    </tr>\n",
       "    <tr>\n",
       "      <th>4</th>\n",
       "      <td>1</td>\n",
       "      <td>4028.687306</td>\n",
       "      <td>26.265803</td>\n",
       "      <td>2021-08-28</td>\n",
       "      <td>8</td>\n",
       "    </tr>\n",
       "  </tbody>\n",
       "</table>\n",
       "</div>"
      ],
      "text/plain": [
       "   user_id     distance   duration       date  month\n",
       "0        1  4409.919140  25.599769 2021-01-01      1\n",
       "1        1  2617.592153  15.816871 2021-01-18      1\n",
       "2        1   754.159807   6.232113 2021-04-20      4\n",
       "3        1  2694.783254  18.511000 2021-08-11      8\n",
       "4        1  4028.687306  26.265803 2021-08-28      8"
      ]
     },
     "execution_count": 9,
     "metadata": {},
     "output_type": "execute_result"
    }
   ],
   "source": [
    "# Создаём столбец с номером месяца\n",
    "rides['month'] = rides['date'].dt.month\n",
    "rides.head()"
   ]
  },
  {
   "cell_type": "code",
   "execution_count": 10,
   "id": "3235d7d9-5596-4169-a507-bc100158e136",
   "metadata": {
    "scrolled": true
   },
   "outputs": [
    {
     "name": "stdout",
     "output_type": "stream",
     "text": [
      "2021-01-01 00:00:00 \n",
      " 2021-12-30 00:00:00\n"
     ]
    }
   ],
   "source": [
    "print(rides['date'].min(),'\\n',rides['date'].max())"
   ]
  },
  {
   "cell_type": "markdown",
   "id": "d7871b71-253b-4bc6-a5bc-f5c0c8264fe9",
   "metadata": {},
   "source": [
    "**Данные предоставлены за полный период 2021 года**"
   ]
  },
  {
   "cell_type": "code",
   "execution_count": 11,
   "id": "de37442c-d311-4f01-b77b-f488ebf34b9c",
   "metadata": {},
   "outputs": [
    {
     "data": {
      "text/plain": [
       "user_id              0\n",
       "name                 0\n",
       "age                  0\n",
       "city                 0\n",
       "subscription_type    0\n",
       "dtype: int64"
      ]
     },
     "execution_count": 11,
     "metadata": {},
     "output_type": "execute_result"
    }
   ],
   "source": [
    "# Проверим наличие пропущенных значений\n",
    "users.isna().sum()"
   ]
  },
  {
   "cell_type": "code",
   "execution_count": 12,
   "id": "7274f340-39ce-449b-93f5-8022e2a81bbf",
   "metadata": {},
   "outputs": [
    {
     "data": {
      "text/plain": [
       "user_id     0\n",
       "distance    0\n",
       "duration    0\n",
       "date        0\n",
       "month       0\n",
       "dtype: int64"
      ]
     },
     "execution_count": 12,
     "metadata": {},
     "output_type": "execute_result"
    }
   ],
   "source": [
    "rides.isna().sum()"
   ]
  },
  {
   "cell_type": "code",
   "execution_count": 13,
   "id": "09485967-8409-498c-8987-80fbdb3a6cd5",
   "metadata": {},
   "outputs": [
    {
     "data": {
      "text/plain": [
       "subscription_type    0\n",
       "minute_price         0\n",
       "start_ride_price     0\n",
       "subscription_fee     0\n",
       "dtype: int64"
      ]
     },
     "execution_count": 13,
     "metadata": {},
     "output_type": "execute_result"
    }
   ],
   "source": [
    "subscriptions.isna().sum()"
   ]
  },
  {
   "cell_type": "markdown",
   "id": "66e503da-080c-4f58-a2af-e2233959af4d",
   "metadata": {},
   "source": [
    "**Пропущенные значения отсутствуют во всех трёх таблицах**"
   ]
  },
  {
   "cell_type": "code",
   "execution_count": 14,
   "id": "dcc0dcc2-d2bf-4a04-88a5-cc6826793222",
   "metadata": {},
   "outputs": [
    {
     "data": {
      "text/plain": [
       "31"
      ]
     },
     "execution_count": 14,
     "metadata": {},
     "output_type": "execute_result"
    }
   ],
   "source": [
    "# Рассмотрим явные дубликаты в таблице data_users\n",
    "users.duplicated().sum()"
   ]
  },
  {
   "cell_type": "code",
   "execution_count": 15,
   "id": "7270f88c-93be-4859-a707-361f89eed66c",
   "metadata": {},
   "outputs": [
    {
     "data": {
      "text/plain": [
       "0"
      ]
     },
     "execution_count": 15,
     "metadata": {},
     "output_type": "execute_result"
    }
   ],
   "source": [
    "# Избавляемся от явных дубликатов, оставляя первую встречающуюся строку\n",
    "users = users.drop_duplicates(subset = ['user_id'], keep = 'first').reset_index(drop = True)\n",
    "users.duplicated().sum()"
   ]
  },
  {
   "cell_type": "markdown",
   "id": "fd0fc894-fcfa-44c4-b90d-1f55d131850c",
   "metadata": {},
   "source": [
    "**Дубликаты оказались только в данных `data_users`, теперь количество id пользователей идентично таблице `data_rides`.**"
   ]
  },
  {
   "cell_type": "markdown",
   "id": "212593c7",
   "metadata": {},
   "source": [
    "#### Шаг 3. Исследовательский анализ данных"
   ]
  },
  {
   "cell_type": "markdown",
   "id": "af4884a5-af94-40b0-bd6c-60b910047c96",
   "metadata": {},
   "source": [
    "**Частота встречаемости городов**"
   ]
  },
  {
   "cell_type": "code",
   "execution_count": 16,
   "id": "df917d2f-77f4-439c-8012-b9c48eb40517",
   "metadata": {},
   "outputs": [
    {
     "data": {
      "image/png": "[encoded data removed]",
      "text/plain": [
       "<Figure size 720x360 with 1 Axes>"
      ]
     },
     "metadata": {
      "needs_background": "light"
     },
     "output_type": "display_data"
    }
   ],
   "source": [
    "city_values = users.pivot_table(index = 'city', values = 'user_id', aggfunc = 'count')\n",
    "\n",
    "ax = city_values.plot.barh(\n",
    "    y='user_id', \n",
    "    figsize=(10, 5),\n",
    "    legend = False\n",
    ")\n",
    "# ax.bar_label(ax.containers[0]) # Делаем аннотацию столбцов \n",
    "plt.xlabel('Количество пользователей')\n",
    "plt.ylabel('Город пользователя')\n",
    "plt.title('Частота встречаемости городов')\n",
    "plt.show()"
   ]
  },
  {
   "cell_type": "markdown",
   "id": "a02d87c7-8697-492e-9126-f4a12dd4369f",
   "metadata": {},
   "source": [
    "**На графике видно, что частота встречаемости городов в наших данных примерно одинакова. Лидером является Пятигорск - 219 пользователей. Минимальное количество пользователей в Москве - 168 человек. Это можно объяснить тем, что в Москве преодолеваются более большие расстояния, требующие общественный транспорт, когда в Пятигорске намного проще добраться до многих точек на карте на самокате.**"
   ]
  },
  {
   "cell_type": "markdown",
   "id": "83e351d1-3dda-4fe7-a7aa-8f7b746fe174",
   "metadata": {},
   "source": [
    "**Соотношение пользователей с подпиской и без подписки**"
   ]
  },
  {
   "cell_type": "code",
   "execution_count": 17,
   "id": "0c22fbc4-b3b5-4ecb-80b1-1085a4ee70cf",
   "metadata": {},
   "outputs": [
    {
     "data": {
      "image/png": "[encoded data removed]",
      "text/plain": [
       "<Figure size 720x504 with 1 Axes>"
      ]
     },
     "metadata": {},
     "output_type": "display_data"
    }
   ],
   "source": [
    "(users\n",
    "    .pivot_table(index = 'subscription_type', values = 'user_id', aggfunc = 'count')\n",
    "    .plot(\n",
    "        title = 'Соотношение пользователей с подпиской и без подписки',\n",
    "        kind = 'pie',\n",
    "        y = 'user_id',\n",
    "        figsize = (10,7),\n",
    "        legend = False,\n",
    "        autopct='%1.1f%%',\n",
    "        colors=sns.color_palette('Set2')\n",
    "    )\n",
    ")\n",
    "plt.show()"
   ]
  },
  {
   "cell_type": "markdown",
   "id": "864da205-5d1d-421f-958c-babd826f4449",
   "metadata": {},
   "source": [
    "**Количество пользователей с подпиской и без распределены почти пополам (без подписки - 54.4%, с подпиской - 45.6%). Такое деление отлично сказывается на дальнейшем анализе данных, позволяя спокойно сравнивать пользователей с подпиской и без.**"
   ]
  },
  {
   "cell_type": "markdown",
   "id": "167d748a-77cc-4ef0-a489-4891f8f9561b",
   "metadata": {},
   "source": [
    "**Возраст пользователей**"
   ]
  },
  {
   "cell_type": "code",
   "execution_count": 18,
   "id": "ca78b8df-5ccf-43b6-a37c-08def52d4399",
   "metadata": {
    "scrolled": true
   },
   "outputs": [
    {
     "data": {
      "text/plain": [
       "25    145\n",
       "24    132\n",
       "26    131\n",
       "23    129\n",
       "27    119\n",
       "22    119\n",
       "28    112\n",
       "21     93\n",
       "20     71\n",
       "30     68\n",
       "29     68\n",
       "31     48\n",
       "19     47\n",
       "18     46\n",
       "32     41\n",
       "33     39\n",
       "17     26\n",
       "34     19\n",
       "16     19\n",
       "35     15\n",
       "15     13\n",
       "14      9\n",
       "13      8\n",
       "36      6\n",
       "12      4\n",
       "38      3\n",
       "37      2\n",
       "39      1\n",
       "43      1\n",
       "Name: age, dtype: int64"
      ]
     },
     "execution_count": 18,
     "metadata": {},
     "output_type": "execute_result"
    }
   ],
   "source": [
    "users['age'].value_counts()"
   ]
  },
  {
   "cell_type": "code",
   "execution_count": 19,
   "id": "7ff42a75-cf93-425c-980f-b6ed7d8600d7",
   "metadata": {},
   "outputs": [
    {
     "data": {
      "image/png": "[encoded data removed]",
      "text/plain": [
       "<Figure size 720x360 with 1 Axes>"
      ]
     },
     "metadata": {
      "needs_background": "light"
     },
     "output_type": "display_data"
    }
   ],
   "source": [
    "users_age = users.pivot_table(index = 'age', values = 'user_id', aggfunc = 'count')\n",
    "\n",
    "ax = users_age.plot(\n",
    "    kind = 'bar',\n",
    "    y='user_id', \n",
    "    figsize=(10, 5),\n",
    "    legend = False\n",
    ")\n",
    "# ax.bar_label(ax.containers[0]) # Делаем аннотацию столбцов \n",
    "plt.xlabel('Возраст пользователя')\n",
    "plt.ylabel('Количество пользователей')\n",
    "plt.xticks(rotation = 360)\n",
    "plt.title('Возраст пользователей')\n",
    "plt.show()"
   ]
  },
  {
   "cell_type": "code",
   "execution_count": 20,
   "id": "c508d875-7240-461a-93f8-d5ef2f6afffe",
   "metadata": {},
   "outputs": [
    {
     "data": {
      "image/png": "[encoded data removed]",
      "text/plain": [
       "<Figure size 720x360 with 1 Axes>"
      ]
     },
     "metadata": {
      "needs_background": "light"
     },
     "output_type": "display_data"
    }
   ],
   "source": [
    "users.plot(\n",
    "    y = 'age',\n",
    "    kind='box', \n",
    "    figsize=(10, 5),\n",
    "    grid = True\n",
    ")\n",
    "plt.title('Межквартильный размах возраста пользователей')\n",
    "plt.ylabel('Возраст пользователей')\n",
    "plt.show()"
   ]
  },
  {
   "cell_type": "markdown",
   "id": "5af7cfd2-d140-4f81-b3ca-1f112b2de9aa",
   "metadata": {},
   "source": [
    "**Целевой аудиторией можно назвать пользователей от 20 до 30 лет. Самый часто встречаемый возраст пользователей - 25 лет (145 человек). Реже всего встречаются дети (12 - 14 лет) и люди старше 36 лет, что отражено выбросами на диаграмме размаха.**"
   ]
  },
  {
   "cell_type": "markdown",
   "id": "dd645b9f-b651-4d70-a127-e28b91be471a",
   "metadata": {},
   "source": [
    "**Расстояние, которое пользователь преодолел за одну поездку**"
   ]
  },
  {
   "cell_type": "code",
   "execution_count": 21,
   "id": "b9d1a12a-deb6-4ff2-b4a5-cffac0af0cdd",
   "metadata": {
    "scrolled": true
   },
   "outputs": [
    {
     "data": {
      "text/plain": [
       "count    18068.000000\n",
       "mean      3070.659976\n",
       "std       1116.831209\n",
       "min          0.855683\n",
       "25%       2543.226360\n",
       "50%       3133.609994\n",
       "75%       3776.222735\n",
       "max       7211.007745\n",
       "Name: distance, dtype: float64"
      ]
     },
     "execution_count": 21,
     "metadata": {},
     "output_type": "execute_result"
    }
   ],
   "source": [
    "rides['distance'].describe()"
   ]
  },
  {
   "cell_type": "code",
   "execution_count": 22,
   "id": "555d8c21-e53d-49ab-b873-8640abee18cc",
   "metadata": {},
   "outputs": [
    {
     "data": {
      "image/png": "[encoded data removed]",
      "text/plain": [
       "<Figure size 720x360 with 1 Axes>"
      ]
     },
     "metadata": {
      "needs_background": "light"
     },
     "output_type": "display_data"
    }
   ],
   "source": [
    "rides.plot(\n",
    "    kind = 'hist',\n",
    "    y = 'distance',\n",
    "    bins = 50,\n",
    "    figsize = (10,5),\n",
    "    title = 'Расстояние, которое пользователь преодолел за одну поездку',\n",
    "    grid = True,\n",
    "    xlabel = 'Расстояние в метрах',\n",
    "    ylabel = 'Количество пользователей'\n",
    ")\n",
    "plt.show()"
   ]
  },
  {
   "cell_type": "code",
   "execution_count": 23,
   "id": "db1d83a0-445b-4b7a-9f2d-4050f156d86d",
   "metadata": {},
   "outputs": [
    {
     "data": {
      "image/png": "[encoded data removed]",
      "text/plain": [
       "<Figure size 720x360 with 1 Axes>"
      ]
     },
     "metadata": {
      "needs_background": "light"
     },
     "output_type": "display_data"
    }
   ],
   "source": [
    "rides.plot(\n",
    "    y = 'distance',\n",
    "    kind='box', \n",
    "    figsize=(10, 5),\n",
    "    grid = True\n",
    ")\n",
    "plt.title('Межквартильный размах расстояния')\n",
    "plt.ylabel('Расстояние в метрах')\n",
    "plt.show()"
   ]
  },
  {
   "cell_type": "markdown",
   "id": "a5b604df-ea6f-4cb3-9ccb-36e84c0d454a",
   "metadata": {},
   "source": [
    "**В среднем пользователи за поездку преодолевают расстояние в 3000 метров, такой показатель можно объяснить тем, что самокаты часто используются, чтобы добраться до неотдаленных мест, заменяя общественный транспорт. Большие расстояния (от 5900 метров) попадают в категорию выбросов, как и короткие поездки до 1000 метров.**"
   ]
  },
  {
   "cell_type": "markdown",
   "id": "6e008cad-3edf-405d-871d-7bb8d80f85db",
   "metadata": {},
   "source": [
    "**Продолжительность поездок**"
   ]
  },
  {
   "cell_type": "code",
   "execution_count": 24,
   "id": "57818ffe-0c49-4910-a7af-ef30e35e4b15",
   "metadata": {},
   "outputs": [
    {
     "data": {
      "text/plain": [
       "count    18068.000000\n",
       "mean        17.805011\n",
       "std          6.091051\n",
       "min          0.500000\n",
       "25%         13.597563\n",
       "50%         17.678395\n",
       "75%         21.724800\n",
       "max         40.823963\n",
       "Name: duration, dtype: float64"
      ]
     },
     "execution_count": 24,
     "metadata": {},
     "output_type": "execute_result"
    }
   ],
   "source": [
    "rides['duration'].describe()"
   ]
  },
  {
   "cell_type": "code",
   "execution_count": 25,
   "id": "34c40e34-040f-4855-b531-340d0ef603c7",
   "metadata": {},
   "outputs": [
    {
     "data": {
      "image/png": "[encoded data removed]",
      "text/plain": [
       "<Figure size 720x360 with 1 Axes>"
      ]
     },
     "metadata": {
      "needs_background": "light"
     },
     "output_type": "display_data"
    }
   ],
   "source": [
    "rides.plot(\n",
    "    kind = 'hist',\n",
    "    y = 'duration',\n",
    "    bins = 50,\n",
    "    figsize = (10,5),\n",
    "    title = 'Продолжительность поездок',\n",
    "    grid = True,\n",
    "    xlabel = 'Длительность в минутах',\n",
    "    ylabel = 'Количество пользователей'\n",
    ")\n",
    "plt.show()"
   ]
  },
  {
   "cell_type": "code",
   "execution_count": 26,
   "id": "32cf05cb-2ab8-47d7-b786-d6c032c13575",
   "metadata": {},
   "outputs": [
    {
     "data": {
      "image/png": "[encoded data removed]",
      "text/plain": [
       "<Figure size 720x360 with 1 Axes>"
      ]
     },
     "metadata": {
      "needs_background": "light"
     },
     "output_type": "display_data"
    }
   ],
   "source": [
    "rides.plot(\n",
    "    y = 'duration',\n",
    "    kind='box', \n",
    "    figsize=(10, 5),\n",
    "    grid = True\n",
    ")\n",
    "plt.title('Межквартильный размах длительности')\n",
    "plt.ylabel('Длительность в минутах')\n",
    "plt.show()"
   ]
  },
  {
   "cell_type": "markdown",
   "id": "50bf0556-3089-4dfb-a366-c904403d80d7",
   "metadata": {},
   "source": [
    "**Чаще всего поездки у пользователей занимают от 15 до 20 минут, что также связывается с самым популярным промежутком расстояния (3000 метров на самокате проезжаются примерно за 15 минут). Самые короткие поездки составляют около 2 минут и являются выбросами, вероятнее всего это пользователи, передумавшие пользоваться самокатом после активации. Длинные поездки более 35 минут - редкий случай.**"
   ]
  },
  {
   "cell_type": "markdown",
   "id": "4ef51331",
   "metadata": {},
   "source": [
    "#### Шаг 4. Объединение данных"
   ]
  },
  {
   "cell_type": "code",
   "execution_count": 27,
   "id": "6bf288b5",
   "metadata": {},
   "outputs": [
    {
     "data": {
      "text/html": [
       "<div>\n",
       "<style scoped>\n",
       "    .dataframe tbody tr th:only-of-type {\n",
       "        vertical-align: middle;\n",
       "    }\n",
       "\n",
       "    .dataframe tbody tr th {\n",
       "        vertical-align: top;\n",
       "    }\n",
       "\n",
       "    .dataframe thead th {\n",
       "        text-align: right;\n",
       "    }\n",
       "</style>\n",
       "<table border=\"1\" class=\"dataframe\">\n",
       "  <thead>\n",
       "    <tr style=\"text-align: right;\">\n",
       "      <th></th>\n",
       "      <th>user_id</th>\n",
       "      <th>distance</th>\n",
       "      <th>duration</th>\n",
       "      <th>date</th>\n",
       "      <th>month</th>\n",
       "      <th>name</th>\n",
       "      <th>age</th>\n",
       "      <th>city</th>\n",
       "      <th>subscription_type</th>\n",
       "      <th>minute_price</th>\n",
       "      <th>start_ride_price</th>\n",
       "      <th>subscription_fee</th>\n",
       "    </tr>\n",
       "  </thead>\n",
       "  <tbody>\n",
       "    <tr>\n",
       "      <th>0</th>\n",
       "      <td>1</td>\n",
       "      <td>4409.919140</td>\n",
       "      <td>25.599769</td>\n",
       "      <td>2021-01-01</td>\n",
       "      <td>1</td>\n",
       "      <td>Кира</td>\n",
       "      <td>22</td>\n",
       "      <td>Тюмень</td>\n",
       "      <td>ultra</td>\n",
       "      <td>6</td>\n",
       "      <td>0</td>\n",
       "      <td>199</td>\n",
       "    </tr>\n",
       "    <tr>\n",
       "      <th>1</th>\n",
       "      <td>1</td>\n",
       "      <td>2617.592153</td>\n",
       "      <td>15.816871</td>\n",
       "      <td>2021-01-18</td>\n",
       "      <td>1</td>\n",
       "      <td>Кира</td>\n",
       "      <td>22</td>\n",
       "      <td>Тюмень</td>\n",
       "      <td>ultra</td>\n",
       "      <td>6</td>\n",
       "      <td>0</td>\n",
       "      <td>199</td>\n",
       "    </tr>\n",
       "    <tr>\n",
       "      <th>2</th>\n",
       "      <td>1</td>\n",
       "      <td>754.159807</td>\n",
       "      <td>6.232113</td>\n",
       "      <td>2021-04-20</td>\n",
       "      <td>4</td>\n",
       "      <td>Кира</td>\n",
       "      <td>22</td>\n",
       "      <td>Тюмень</td>\n",
       "      <td>ultra</td>\n",
       "      <td>6</td>\n",
       "      <td>0</td>\n",
       "      <td>199</td>\n",
       "    </tr>\n",
       "    <tr>\n",
       "      <th>3</th>\n",
       "      <td>1</td>\n",
       "      <td>2694.783254</td>\n",
       "      <td>18.511000</td>\n",
       "      <td>2021-08-11</td>\n",
       "      <td>8</td>\n",
       "      <td>Кира</td>\n",
       "      <td>22</td>\n",
       "      <td>Тюмень</td>\n",
       "      <td>ultra</td>\n",
       "      <td>6</td>\n",
       "      <td>0</td>\n",
       "      <td>199</td>\n",
       "    </tr>\n",
       "    <tr>\n",
       "      <th>4</th>\n",
       "      <td>1</td>\n",
       "      <td>4028.687306</td>\n",
       "      <td>26.265803</td>\n",
       "      <td>2021-08-28</td>\n",
       "      <td>8</td>\n",
       "      <td>Кира</td>\n",
       "      <td>22</td>\n",
       "      <td>Тюмень</td>\n",
       "      <td>ultra</td>\n",
       "      <td>6</td>\n",
       "      <td>0</td>\n",
       "      <td>199</td>\n",
       "    </tr>\n",
       "    <tr>\n",
       "      <th>...</th>\n",
       "      <td>...</td>\n",
       "      <td>...</td>\n",
       "      <td>...</td>\n",
       "      <td>...</td>\n",
       "      <td>...</td>\n",
       "      <td>...</td>\n",
       "      <td>...</td>\n",
       "      <td>...</td>\n",
       "      <td>...</td>\n",
       "      <td>...</td>\n",
       "      <td>...</td>\n",
       "      <td>...</td>\n",
       "    </tr>\n",
       "    <tr>\n",
       "      <th>18063</th>\n",
       "      <td>1534</td>\n",
       "      <td>3781.098080</td>\n",
       "      <td>19.822962</td>\n",
       "      <td>2021-11-04</td>\n",
       "      <td>11</td>\n",
       "      <td>Альберт</td>\n",
       "      <td>25</td>\n",
       "      <td>Краснодар</td>\n",
       "      <td>free</td>\n",
       "      <td>8</td>\n",
       "      <td>50</td>\n",
       "      <td>0</td>\n",
       "    </tr>\n",
       "    <tr>\n",
       "      <th>18064</th>\n",
       "      <td>1534</td>\n",
       "      <td>2840.423057</td>\n",
       "      <td>21.409799</td>\n",
       "      <td>2021-11-16</td>\n",
       "      <td>11</td>\n",
       "      <td>Альберт</td>\n",
       "      <td>25</td>\n",
       "      <td>Краснодар</td>\n",
       "      <td>free</td>\n",
       "      <td>8</td>\n",
       "      <td>50</td>\n",
       "      <td>0</td>\n",
       "    </tr>\n",
       "    <tr>\n",
       "      <th>18065</th>\n",
       "      <td>1534</td>\n",
       "      <td>3826.185507</td>\n",
       "      <td>18.435051</td>\n",
       "      <td>2021-11-18</td>\n",
       "      <td>11</td>\n",
       "      <td>Альберт</td>\n",
       "      <td>25</td>\n",
       "      <td>Краснодар</td>\n",
       "      <td>free</td>\n",
       "      <td>8</td>\n",
       "      <td>50</td>\n",
       "      <td>0</td>\n",
       "    </tr>\n",
       "    <tr>\n",
       "      <th>18066</th>\n",
       "      <td>1534</td>\n",
       "      <td>2902.308661</td>\n",
       "      <td>16.674362</td>\n",
       "      <td>2021-11-27</td>\n",
       "      <td>11</td>\n",
       "      <td>Альберт</td>\n",
       "      <td>25</td>\n",
       "      <td>Краснодар</td>\n",
       "      <td>free</td>\n",
       "      <td>8</td>\n",
       "      <td>50</td>\n",
       "      <td>0</td>\n",
       "    </tr>\n",
       "    <tr>\n",
       "      <th>18067</th>\n",
       "      <td>1534</td>\n",
       "      <td>2371.711192</td>\n",
       "      <td>15.893917</td>\n",
       "      <td>2021-12-29</td>\n",
       "      <td>12</td>\n",
       "      <td>Альберт</td>\n",
       "      <td>25</td>\n",
       "      <td>Краснодар</td>\n",
       "      <td>free</td>\n",
       "      <td>8</td>\n",
       "      <td>50</td>\n",
       "      <td>0</td>\n",
       "    </tr>\n",
       "  </tbody>\n",
       "</table>\n",
       "<p>18068 rows × 12 columns</p>\n",
       "</div>"
      ],
      "text/plain": [
       "       user_id     distance   duration       date  month     name  age  \\\n",
       "0            1  4409.919140  25.599769 2021-01-01      1     Кира   22   \n",
       "1            1  2617.592153  15.816871 2021-01-18      1     Кира   22   \n",
       "2            1   754.159807   6.232113 2021-04-20      4     Кира   22   \n",
       "3            1  2694.783254  18.511000 2021-08-11      8     Кира   22   \n",
       "4            1  4028.687306  26.265803 2021-08-28      8     Кира   22   \n",
       "...        ...          ...        ...        ...    ...      ...  ...   \n",
       "18063     1534  3781.098080  19.822962 2021-11-04     11  Альберт   25   \n",
       "18064     1534  2840.423057  21.409799 2021-11-16     11  Альберт   25   \n",
       "18065     1534  3826.185507  18.435051 2021-11-18     11  Альберт   25   \n",
       "18066     1534  2902.308661  16.674362 2021-11-27     11  Альберт   25   \n",
       "18067     1534  2371.711192  15.893917 2021-12-29     12  Альберт   25   \n",
       "\n",
       "            city subscription_type  minute_price  start_ride_price  \\\n",
       "0         Тюмень             ultra             6                 0   \n",
       "1         Тюмень             ultra             6                 0   \n",
       "2         Тюмень             ultra             6                 0   \n",
       "3         Тюмень             ultra             6                 0   \n",
       "4         Тюмень             ultra             6                 0   \n",
       "...          ...               ...           ...               ...   \n",
       "18063  Краснодар              free             8                50   \n",
       "18064  Краснодар              free             8                50   \n",
       "18065  Краснодар              free             8                50   \n",
       "18066  Краснодар              free             8                50   \n",
       "18067  Краснодар              free             8                50   \n",
       "\n",
       "       subscription_fee  \n",
       "0                   199  \n",
       "1                   199  \n",
       "2                   199  \n",
       "3                   199  \n",
       "4                   199  \n",
       "...                 ...  \n",
       "18063                 0  \n",
       "18064                 0  \n",
       "18065                 0  \n",
       "18066                 0  \n",
       "18067                 0  \n",
       "\n",
       "[18068 rows x 12 columns]"
      ]
     },
     "execution_count": 27,
     "metadata": {},
     "output_type": "execute_result"
    }
   ],
   "source": [
    "# Объединяем данные о пользователях, поездках и подписках\n",
    "data = rides.merge(users, on = 'user_id')\n",
    "data = data.merge(subscriptions, on = 'subscription_type')\n",
    "data"
   ]
  },
  {
   "cell_type": "code",
   "execution_count": 28,
   "id": "183477fa-2fc1-44c4-bbf0-4b4b69ae4798",
   "metadata": {},
   "outputs": [
    {
     "name": "stdout",
     "output_type": "stream",
     "text": [
      "Данные соединены верно\n"
     ]
    }
   ],
   "source": [
    "# Проверяем размерность таблиц\n",
    "if rides.shape[0] == data.shape[0]:\n",
    "    print('Данные соединены верно')\n",
    "else:\n",
    "    print('Данные соединены неверно')"
   ]
  },
  {
   "cell_type": "code",
   "execution_count": 29,
   "id": "59ef908c-43ab-4b23-822c-79f0fa60fdc7",
   "metadata": {},
   "outputs": [
    {
     "data": {
      "text/plain": [
       "user_id              0\n",
       "distance             0\n",
       "duration             0\n",
       "date                 0\n",
       "month                0\n",
       "name                 0\n",
       "age                  0\n",
       "city                 0\n",
       "subscription_type    0\n",
       "minute_price         0\n",
       "start_ride_price     0\n",
       "subscription_fee     0\n",
       "dtype: int64"
      ]
     },
     "execution_count": 29,
     "metadata": {},
     "output_type": "execute_result"
    }
   ],
   "source": [
    "# Проверяем data на наличие пропусков \n",
    "data.isna().sum()"
   ]
  },
  {
   "cell_type": "markdown",
   "id": "cc4674e7-6afa-4ce4-9a32-522b1a02540d",
   "metadata": {},
   "source": [
    "**Количесто строк в таблице до и после объединения совпадает, а пропуски отсутствуют, что говорит нам об удачно проведенной операции. Благодаря объединению, мы получили полную таблицу данных, где для каждой поездки есть соответствующая информация о пользователе, который ее совершил и о типе его подписки.**"
   ]
  },
  {
   "cell_type": "code",
   "execution_count": 30,
   "id": "794f1903-1d47-448c-bd3d-580a9f275d0a",
   "metadata": {
    "scrolled": true
   },
   "outputs": [
    {
     "data": {
      "text/html": [
       "<div>\n",
       "<style scoped>\n",
       "    .dataframe tbody tr th:only-of-type {\n",
       "        vertical-align: middle;\n",
       "    }\n",
       "\n",
       "    .dataframe tbody tr th {\n",
       "        vertical-align: top;\n",
       "    }\n",
       "\n",
       "    .dataframe thead th {\n",
       "        text-align: right;\n",
       "    }\n",
       "</style>\n",
       "<table border=\"1\" class=\"dataframe\">\n",
       "  <thead>\n",
       "    <tr style=\"text-align: right;\">\n",
       "      <th></th>\n",
       "      <th>index</th>\n",
       "      <th>user_id</th>\n",
       "      <th>distance</th>\n",
       "      <th>duration</th>\n",
       "      <th>date</th>\n",
       "      <th>month</th>\n",
       "      <th>name</th>\n",
       "      <th>age</th>\n",
       "      <th>city</th>\n",
       "      <th>subscription_type</th>\n",
       "      <th>minute_price</th>\n",
       "      <th>start_ride_price</th>\n",
       "      <th>subscription_fee</th>\n",
       "    </tr>\n",
       "  </thead>\n",
       "  <tbody>\n",
       "    <tr>\n",
       "      <th>0</th>\n",
       "      <td>6500</td>\n",
       "      <td>700</td>\n",
       "      <td>2515.690719</td>\n",
       "      <td>14.944286</td>\n",
       "      <td>2021-01-02</td>\n",
       "      <td>1</td>\n",
       "      <td>Айдар</td>\n",
       "      <td>22</td>\n",
       "      <td>Омск</td>\n",
       "      <td>free</td>\n",
       "      <td>8</td>\n",
       "      <td>50</td>\n",
       "      <td>0</td>\n",
       "    </tr>\n",
       "    <tr>\n",
       "      <th>1</th>\n",
       "      <td>6501</td>\n",
       "      <td>700</td>\n",
       "      <td>846.932642</td>\n",
       "      <td>16.234663</td>\n",
       "      <td>2021-02-01</td>\n",
       "      <td>2</td>\n",
       "      <td>Айдар</td>\n",
       "      <td>22</td>\n",
       "      <td>Омск</td>\n",
       "      <td>free</td>\n",
       "      <td>8</td>\n",
       "      <td>50</td>\n",
       "      <td>0</td>\n",
       "    </tr>\n",
       "    <tr>\n",
       "      <th>2</th>\n",
       "      <td>6502</td>\n",
       "      <td>700</td>\n",
       "      <td>4004.434142</td>\n",
       "      <td>20.016628</td>\n",
       "      <td>2021-02-04</td>\n",
       "      <td>2</td>\n",
       "      <td>Айдар</td>\n",
       "      <td>22</td>\n",
       "      <td>Омск</td>\n",
       "      <td>free</td>\n",
       "      <td>8</td>\n",
       "      <td>50</td>\n",
       "      <td>0</td>\n",
       "    </tr>\n",
       "    <tr>\n",
       "      <th>3</th>\n",
       "      <td>6503</td>\n",
       "      <td>700</td>\n",
       "      <td>1205.911290</td>\n",
       "      <td>9.782872</td>\n",
       "      <td>2021-02-10</td>\n",
       "      <td>2</td>\n",
       "      <td>Айдар</td>\n",
       "      <td>22</td>\n",
       "      <td>Омск</td>\n",
       "      <td>free</td>\n",
       "      <td>8</td>\n",
       "      <td>50</td>\n",
       "      <td>0</td>\n",
       "    </tr>\n",
       "    <tr>\n",
       "      <th>4</th>\n",
       "      <td>6504</td>\n",
       "      <td>700</td>\n",
       "      <td>3047.379435</td>\n",
       "      <td>17.427673</td>\n",
       "      <td>2021-02-14</td>\n",
       "      <td>2</td>\n",
       "      <td>Айдар</td>\n",
       "      <td>22</td>\n",
       "      <td>Омск</td>\n",
       "      <td>free</td>\n",
       "      <td>8</td>\n",
       "      <td>50</td>\n",
       "      <td>0</td>\n",
       "    </tr>\n",
       "    <tr>\n",
       "      <th>...</th>\n",
       "      <td>...</td>\n",
       "      <td>...</td>\n",
       "      <td>...</td>\n",
       "      <td>...</td>\n",
       "      <td>...</td>\n",
       "      <td>...</td>\n",
       "      <td>...</td>\n",
       "      <td>...</td>\n",
       "      <td>...</td>\n",
       "      <td>...</td>\n",
       "      <td>...</td>\n",
       "      <td>...</td>\n",
       "      <td>...</td>\n",
       "    </tr>\n",
       "    <tr>\n",
       "      <th>11563</th>\n",
       "      <td>18063</td>\n",
       "      <td>1534</td>\n",
       "      <td>3781.098080</td>\n",
       "      <td>19.822962</td>\n",
       "      <td>2021-11-04</td>\n",
       "      <td>11</td>\n",
       "      <td>Альберт</td>\n",
       "      <td>25</td>\n",
       "      <td>Краснодар</td>\n",
       "      <td>free</td>\n",
       "      <td>8</td>\n",
       "      <td>50</td>\n",
       "      <td>0</td>\n",
       "    </tr>\n",
       "    <tr>\n",
       "      <th>11564</th>\n",
       "      <td>18064</td>\n",
       "      <td>1534</td>\n",
       "      <td>2840.423057</td>\n",
       "      <td>21.409799</td>\n",
       "      <td>2021-11-16</td>\n",
       "      <td>11</td>\n",
       "      <td>Альберт</td>\n",
       "      <td>25</td>\n",
       "      <td>Краснодар</td>\n",
       "      <td>free</td>\n",
       "      <td>8</td>\n",
       "      <td>50</td>\n",
       "      <td>0</td>\n",
       "    </tr>\n",
       "    <tr>\n",
       "      <th>11565</th>\n",
       "      <td>18065</td>\n",
       "      <td>1534</td>\n",
       "      <td>3826.185507</td>\n",
       "      <td>18.435051</td>\n",
       "      <td>2021-11-18</td>\n",
       "      <td>11</td>\n",
       "      <td>Альберт</td>\n",
       "      <td>25</td>\n",
       "      <td>Краснодар</td>\n",
       "      <td>free</td>\n",
       "      <td>8</td>\n",
       "      <td>50</td>\n",
       "      <td>0</td>\n",
       "    </tr>\n",
       "    <tr>\n",
       "      <th>11566</th>\n",
       "      <td>18066</td>\n",
       "      <td>1534</td>\n",
       "      <td>2902.308661</td>\n",
       "      <td>16.674362</td>\n",
       "      <td>2021-11-27</td>\n",
       "      <td>11</td>\n",
       "      <td>Альберт</td>\n",
       "      <td>25</td>\n",
       "      <td>Краснодар</td>\n",
       "      <td>free</td>\n",
       "      <td>8</td>\n",
       "      <td>50</td>\n",
       "      <td>0</td>\n",
       "    </tr>\n",
       "    <tr>\n",
       "      <th>11567</th>\n",
       "      <td>18067</td>\n",
       "      <td>1534</td>\n",
       "      <td>2371.711192</td>\n",
       "      <td>15.893917</td>\n",
       "      <td>2021-12-29</td>\n",
       "      <td>12</td>\n",
       "      <td>Альберт</td>\n",
       "      <td>25</td>\n",
       "      <td>Краснодар</td>\n",
       "      <td>free</td>\n",
       "      <td>8</td>\n",
       "      <td>50</td>\n",
       "      <td>0</td>\n",
       "    </tr>\n",
       "  </tbody>\n",
       "</table>\n",
       "<p>11568 rows × 13 columns</p>\n",
       "</div>"
      ],
      "text/plain": [
       "       index  user_id     distance   duration       date  month     name  age  \\\n",
       "0       6500      700  2515.690719  14.944286 2021-01-02      1    Айдар   22   \n",
       "1       6501      700   846.932642  16.234663 2021-02-01      2    Айдар   22   \n",
       "2       6502      700  4004.434142  20.016628 2021-02-04      2    Айдар   22   \n",
       "3       6503      700  1205.911290   9.782872 2021-02-10      2    Айдар   22   \n",
       "4       6504      700  3047.379435  17.427673 2021-02-14      2    Айдар   22   \n",
       "...      ...      ...          ...        ...        ...    ...      ...  ...   \n",
       "11563  18063     1534  3781.098080  19.822962 2021-11-04     11  Альберт   25   \n",
       "11564  18064     1534  2840.423057  21.409799 2021-11-16     11  Альберт   25   \n",
       "11565  18065     1534  3826.185507  18.435051 2021-11-18     11  Альберт   25   \n",
       "11566  18066     1534  2902.308661  16.674362 2021-11-27     11  Альберт   25   \n",
       "11567  18067     1534  2371.711192  15.893917 2021-12-29     12  Альберт   25   \n",
       "\n",
       "            city subscription_type  minute_price  start_ride_price  \\\n",
       "0           Омск              free             8                50   \n",
       "1           Омск              free             8                50   \n",
       "2           Омск              free             8                50   \n",
       "3           Омск              free             8                50   \n",
       "4           Омск              free             8                50   \n",
       "...          ...               ...           ...               ...   \n",
       "11563  Краснодар              free             8                50   \n",
       "11564  Краснодар              free             8                50   \n",
       "11565  Краснодар              free             8                50   \n",
       "11566  Краснодар              free             8                50   \n",
       "11567  Краснодар              free             8                50   \n",
       "\n",
       "       subscription_fee  \n",
       "0                     0  \n",
       "1                     0  \n",
       "2                     0  \n",
       "3                     0  \n",
       "4                     0  \n",
       "...                 ...  \n",
       "11563                 0  \n",
       "11564                 0  \n",
       "11565                 0  \n",
       "11566                 0  \n",
       "11567                 0  \n",
       "\n",
       "[11568 rows x 13 columns]"
      ]
     },
     "execution_count": 30,
     "metadata": {},
     "output_type": "execute_result"
    }
   ],
   "source": [
    "# Датафрейм с данными о пользователях без подписки \n",
    "data_free = data.query('subscription_type in \"free\"').reset_index()\n",
    "data_free"
   ]
  },
  {
   "cell_type": "code",
   "execution_count": 31,
   "id": "f40a8eea-7809-4beb-b8f3-84c4c0f7fd8e",
   "metadata": {},
   "outputs": [
    {
     "data": {
      "text/plain": [
       "index                0\n",
       "user_id              0\n",
       "distance             0\n",
       "duration             0\n",
       "date                 0\n",
       "month                0\n",
       "name                 0\n",
       "age                  0\n",
       "city                 0\n",
       "subscription_type    0\n",
       "minute_price         0\n",
       "start_ride_price     0\n",
       "subscription_fee     0\n",
       "dtype: int64"
      ]
     },
     "execution_count": 31,
     "metadata": {},
     "output_type": "execute_result"
    }
   ],
   "source": [
    "# Проверяем data_free на наличие пропусков \n",
    "data_free.isna().sum()"
   ]
  },
  {
   "cell_type": "code",
   "execution_count": 32,
   "id": "243c4cba-ccfe-4453-869b-94180c35c078",
   "metadata": {
    "scrolled": true
   },
   "outputs": [
    {
     "data": {
      "text/html": [
       "<div>\n",
       "<style scoped>\n",
       "    .dataframe tbody tr th:only-of-type {\n",
       "        vertical-align: middle;\n",
       "    }\n",
       "\n",
       "    .dataframe tbody tr th {\n",
       "        vertical-align: top;\n",
       "    }\n",
       "\n",
       "    .dataframe thead th {\n",
       "        text-align: right;\n",
       "    }\n",
       "</style>\n",
       "<table border=\"1\" class=\"dataframe\">\n",
       "  <thead>\n",
       "    <tr style=\"text-align: right;\">\n",
       "      <th></th>\n",
       "      <th>index</th>\n",
       "      <th>user_id</th>\n",
       "      <th>distance</th>\n",
       "      <th>duration</th>\n",
       "      <th>date</th>\n",
       "      <th>month</th>\n",
       "      <th>name</th>\n",
       "      <th>age</th>\n",
       "      <th>city</th>\n",
       "      <th>subscription_type</th>\n",
       "      <th>minute_price</th>\n",
       "      <th>start_ride_price</th>\n",
       "      <th>subscription_fee</th>\n",
       "    </tr>\n",
       "  </thead>\n",
       "  <tbody>\n",
       "    <tr>\n",
       "      <th>0</th>\n",
       "      <td>0</td>\n",
       "      <td>1</td>\n",
       "      <td>4409.919140</td>\n",
       "      <td>25.599769</td>\n",
       "      <td>2021-01-01</td>\n",
       "      <td>1</td>\n",
       "      <td>Кира</td>\n",
       "      <td>22</td>\n",
       "      <td>Тюмень</td>\n",
       "      <td>ultra</td>\n",
       "      <td>6</td>\n",
       "      <td>0</td>\n",
       "      <td>199</td>\n",
       "    </tr>\n",
       "    <tr>\n",
       "      <th>1</th>\n",
       "      <td>1</td>\n",
       "      <td>1</td>\n",
       "      <td>2617.592153</td>\n",
       "      <td>15.816871</td>\n",
       "      <td>2021-01-18</td>\n",
       "      <td>1</td>\n",
       "      <td>Кира</td>\n",
       "      <td>22</td>\n",
       "      <td>Тюмень</td>\n",
       "      <td>ultra</td>\n",
       "      <td>6</td>\n",
       "      <td>0</td>\n",
       "      <td>199</td>\n",
       "    </tr>\n",
       "    <tr>\n",
       "      <th>2</th>\n",
       "      <td>2</td>\n",
       "      <td>1</td>\n",
       "      <td>754.159807</td>\n",
       "      <td>6.232113</td>\n",
       "      <td>2021-04-20</td>\n",
       "      <td>4</td>\n",
       "      <td>Кира</td>\n",
       "      <td>22</td>\n",
       "      <td>Тюмень</td>\n",
       "      <td>ultra</td>\n",
       "      <td>6</td>\n",
       "      <td>0</td>\n",
       "      <td>199</td>\n",
       "    </tr>\n",
       "    <tr>\n",
       "      <th>3</th>\n",
       "      <td>3</td>\n",
       "      <td>1</td>\n",
       "      <td>2694.783254</td>\n",
       "      <td>18.511000</td>\n",
       "      <td>2021-08-11</td>\n",
       "      <td>8</td>\n",
       "      <td>Кира</td>\n",
       "      <td>22</td>\n",
       "      <td>Тюмень</td>\n",
       "      <td>ultra</td>\n",
       "      <td>6</td>\n",
       "      <td>0</td>\n",
       "      <td>199</td>\n",
       "    </tr>\n",
       "    <tr>\n",
       "      <th>4</th>\n",
       "      <td>4</td>\n",
       "      <td>1</td>\n",
       "      <td>4028.687306</td>\n",
       "      <td>26.265803</td>\n",
       "      <td>2021-08-28</td>\n",
       "      <td>8</td>\n",
       "      <td>Кира</td>\n",
       "      <td>22</td>\n",
       "      <td>Тюмень</td>\n",
       "      <td>ultra</td>\n",
       "      <td>6</td>\n",
       "      <td>0</td>\n",
       "      <td>199</td>\n",
       "    </tr>\n",
       "    <tr>\n",
       "      <th>...</th>\n",
       "      <td>...</td>\n",
       "      <td>...</td>\n",
       "      <td>...</td>\n",
       "      <td>...</td>\n",
       "      <td>...</td>\n",
       "      <td>...</td>\n",
       "      <td>...</td>\n",
       "      <td>...</td>\n",
       "      <td>...</td>\n",
       "      <td>...</td>\n",
       "      <td>...</td>\n",
       "      <td>...</td>\n",
       "      <td>...</td>\n",
       "    </tr>\n",
       "    <tr>\n",
       "      <th>6495</th>\n",
       "      <td>6495</td>\n",
       "      <td>699</td>\n",
       "      <td>3973.046497</td>\n",
       "      <td>24.671163</td>\n",
       "      <td>2021-08-29</td>\n",
       "      <td>8</td>\n",
       "      <td>Оксана</td>\n",
       "      <td>22</td>\n",
       "      <td>Москва</td>\n",
       "      <td>ultra</td>\n",
       "      <td>6</td>\n",
       "      <td>0</td>\n",
       "      <td>199</td>\n",
       "    </tr>\n",
       "    <tr>\n",
       "      <th>6496</th>\n",
       "      <td>6496</td>\n",
       "      <td>699</td>\n",
       "      <td>3288.702563</td>\n",
       "      <td>15.892886</td>\n",
       "      <td>2021-09-12</td>\n",
       "      <td>9</td>\n",
       "      <td>Оксана</td>\n",
       "      <td>22</td>\n",
       "      <td>Москва</td>\n",
       "      <td>ultra</td>\n",
       "      <td>6</td>\n",
       "      <td>0</td>\n",
       "      <td>199</td>\n",
       "    </tr>\n",
       "    <tr>\n",
       "      <th>6497</th>\n",
       "      <td>6497</td>\n",
       "      <td>699</td>\n",
       "      <td>3076.159348</td>\n",
       "      <td>14.389525</td>\n",
       "      <td>2021-09-26</td>\n",
       "      <td>9</td>\n",
       "      <td>Оксана</td>\n",
       "      <td>22</td>\n",
       "      <td>Москва</td>\n",
       "      <td>ultra</td>\n",
       "      <td>6</td>\n",
       "      <td>0</td>\n",
       "      <td>199</td>\n",
       "    </tr>\n",
       "    <tr>\n",
       "      <th>6498</th>\n",
       "      <td>6498</td>\n",
       "      <td>699</td>\n",
       "      <td>4707.845501</td>\n",
       "      <td>15.839579</td>\n",
       "      <td>2021-10-17</td>\n",
       "      <td>10</td>\n",
       "      <td>Оксана</td>\n",
       "      <td>22</td>\n",
       "      <td>Москва</td>\n",
       "      <td>ultra</td>\n",
       "      <td>6</td>\n",
       "      <td>0</td>\n",
       "      <td>199</td>\n",
       "    </tr>\n",
       "    <tr>\n",
       "      <th>6499</th>\n",
       "      <td>6499</td>\n",
       "      <td>699</td>\n",
       "      <td>3202.890770</td>\n",
       "      <td>25.217345</td>\n",
       "      <td>2021-12-03</td>\n",
       "      <td>12</td>\n",
       "      <td>Оксана</td>\n",
       "      <td>22</td>\n",
       "      <td>Москва</td>\n",
       "      <td>ultra</td>\n",
       "      <td>6</td>\n",
       "      <td>0</td>\n",
       "      <td>199</td>\n",
       "    </tr>\n",
       "  </tbody>\n",
       "</table>\n",
       "<p>6500 rows × 13 columns</p>\n",
       "</div>"
      ],
      "text/plain": [
       "      index  user_id     distance   duration       date  month    name  age  \\\n",
       "0         0        1  4409.919140  25.599769 2021-01-01      1    Кира   22   \n",
       "1         1        1  2617.592153  15.816871 2021-01-18      1    Кира   22   \n",
       "2         2        1   754.159807   6.232113 2021-04-20      4    Кира   22   \n",
       "3         3        1  2694.783254  18.511000 2021-08-11      8    Кира   22   \n",
       "4         4        1  4028.687306  26.265803 2021-08-28      8    Кира   22   \n",
       "...     ...      ...          ...        ...        ...    ...     ...  ...   \n",
       "6495   6495      699  3973.046497  24.671163 2021-08-29      8  Оксана   22   \n",
       "6496   6496      699  3288.702563  15.892886 2021-09-12      9  Оксана   22   \n",
       "6497   6497      699  3076.159348  14.389525 2021-09-26      9  Оксана   22   \n",
       "6498   6498      699  4707.845501  15.839579 2021-10-17     10  Оксана   22   \n",
       "6499   6499      699  3202.890770  25.217345 2021-12-03     12  Оксана   22   \n",
       "\n",
       "        city subscription_type  minute_price  start_ride_price  \\\n",
       "0     Тюмень             ultra             6                 0   \n",
       "1     Тюмень             ultra             6                 0   \n",
       "2     Тюмень             ultra             6                 0   \n",
       "3     Тюмень             ultra             6                 0   \n",
       "4     Тюмень             ultra             6                 0   \n",
       "...      ...               ...           ...               ...   \n",
       "6495  Москва             ultra             6                 0   \n",
       "6496  Москва             ultra             6                 0   \n",
       "6497  Москва             ultra             6                 0   \n",
       "6498  Москва             ultra             6                 0   \n",
       "6499  Москва             ultra             6                 0   \n",
       "\n",
       "      subscription_fee  \n",
       "0                  199  \n",
       "1                  199  \n",
       "2                  199  \n",
       "3                  199  \n",
       "4                  199  \n",
       "...                ...  \n",
       "6495               199  \n",
       "6496               199  \n",
       "6497               199  \n",
       "6498               199  \n",
       "6499               199  \n",
       "\n",
       "[6500 rows x 13 columns]"
      ]
     },
     "execution_count": 32,
     "metadata": {},
     "output_type": "execute_result"
    }
   ],
   "source": [
    "# Датафрейм с данными о пользователях с подпиской\n",
    "data_ultra = data.query('subscription_type in \"ultra\"').reset_index()\n",
    "data_ultra"
   ]
  },
  {
   "cell_type": "code",
   "execution_count": 33,
   "id": "2f247f83-36ea-42d2-ad2a-8981c8f72601",
   "metadata": {},
   "outputs": [
    {
     "data": {
      "text/plain": [
       "index                0\n",
       "user_id              0\n",
       "distance             0\n",
       "duration             0\n",
       "date                 0\n",
       "month                0\n",
       "name                 0\n",
       "age                  0\n",
       "city                 0\n",
       "subscription_type    0\n",
       "minute_price         0\n",
       "start_ride_price     0\n",
       "subscription_fee     0\n",
       "dtype: int64"
      ]
     },
     "execution_count": 33,
     "metadata": {},
     "output_type": "execute_result"
    }
   ],
   "source": [
    "# Проверяем data_ultra на наличие пропусков \n",
    "data_ultra.isna().sum()"
   ]
  },
  {
   "cell_type": "code",
   "execution_count": 34,
   "id": "69a0a4cf-8cbd-4b9c-b5fc-4b02b42ee597",
   "metadata": {},
   "outputs": [
    {
     "name": "stdout",
     "output_type": "stream",
     "text": [
      "Данные разделены верно\n"
     ]
    }
   ],
   "source": [
    "# Проверяем размерность полученных таблиц\n",
    "if data_ultra.shape[0] + data_free.shape[0] == data.shape[0]:\n",
    "    print('Данные разделены верно')\n",
    "else:\n",
    "    print('Данные разделены неверно')"
   ]
  },
  {
   "cell_type": "code",
   "execution_count": 35,
   "id": "f923cf05-ed63-4f08-8b61-2eb221eb8ee3",
   "metadata": {},
   "outputs": [
    {
     "data": {
      "image/png": "[encoded data removed]",
      "text/plain": [
       "<Figure size 720x360 with 1 Axes>"
      ]
     },
     "metadata": {
      "needs_background": "light"
     },
     "output_type": "display_data"
    }
   ],
   "source": [
    "ax = data_ultra.plot(kind = 'hist', y = 'duration', bins = 20, label = 'Продолжительность с подпиской')\n",
    "data_free.plot(\n",
    "    kind = 'hist',\n",
    "    y = 'duration',\n",
    "    bins = 20,\n",
    "    ax = ax,\n",
    "    alpha = 0.5,\n",
    "    label = 'Продолжительность без подписки', \n",
    "    figsize = (10, 5),\n",
    "    xlabel = 'Время в минутах',\n",
    "    ylabel = 'Количество пользователей'\n",
    ")\n",
    "plt.title('График сравнения продолжительности поездки с подпиской и без')\n",
    "plt.show()"
   ]
  },
  {
   "cell_type": "markdown",
   "id": "a3f99c86-51ca-4987-be98-d3a5e6d3e148",
   "metadata": {},
   "source": [
    "**Оранжевая зона графика отражает продолжительность поездок пользователей без подписки. Синяя зона графика отражает продолжительность поездок пользователей с подпиской. Можно отчетливо увидеть, что пользователи без подписки имеют более длительные поездки, при этом пользователи без подписки намного чаще берут самокат для коротких поездок.**"
   ]
  },
  {
   "cell_type": "code",
   "execution_count": 36,
   "id": "d02a6043-71cb-4e2a-bbc2-8f7428a6d6ce",
   "metadata": {},
   "outputs": [
    {
     "name": "stdout",
     "output_type": "stream",
     "text": [
      "Статистика пройденного расстояния пользователей без подписки: \n",
      " count    11568.000000\n",
      "mean      3045.495282\n",
      "std       1246.173806\n",
      "min          0.855683\n",
      "25%       2366.562689\n",
      "50%       3114.648465\n",
      "75%       3905.697894\n",
      "max       7211.007745\n",
      "Name: distance, dtype: float64\n"
     ]
    }
   ],
   "source": [
    "print('Статистика пройденного расстояния пользователей без подписки:','\\n',data_free['distance'].describe())"
   ]
  },
  {
   "cell_type": "code",
   "execution_count": 37,
   "id": "295a76cc-4c69-4d57-a249-1b1977f1aaa0",
   "metadata": {},
   "outputs": [
    {
     "name": "stdout",
     "output_type": "stream",
     "text": [
      "Статистика пройденного расстояния пользователей с подпиской: \n",
      " count    6500.000000\n",
      "mean     3115.445388\n",
      "std       836.895330\n",
      "min       244.210438\n",
      "25%      2785.444017\n",
      "50%      3148.637229\n",
      "75%      3560.574425\n",
      "max      5699.769662\n",
      "Name: distance, dtype: float64\n"
     ]
    }
   ],
   "source": [
    "print('Статистика пройденного расстояния пользователей с подпиской:','\\n',data_ultra['distance'].describe())"
   ]
  },
  {
   "cell_type": "code",
   "execution_count": 38,
   "id": "203745a3-5083-4b4b-8b2d-8bbb8217a54e",
   "metadata": {},
   "outputs": [
    {
     "data": {
      "image/png": "[encoded data removed]",
      "text/plain": [
       "<Figure size 720x360 with 1 Axes>"
      ]
     },
     "metadata": {
      "needs_background": "light"
     },
     "output_type": "display_data"
    }
   ],
   "source": [
    "ax = data_ultra.plot(kind = 'hist', y = 'distance', bins = 20, label = 'Расстояние с подпиской')\n",
    "data_free.plot(\n",
    "    kind = 'hist',\n",
    "    y = 'distance',\n",
    "    bins = 20,\n",
    "    ax = ax,\n",
    "    alpha = 0.5,\n",
    "    label = 'Расстояние без подписки', \n",
    "    figsize = (10, 5),\n",
    "    xlabel = 'Расстояние в метрах',\n",
    "    ylabel = 'Количество пользователей'\n",
    ")\n",
    "plt.title('График сравнения расстояния поездки с подпиской и без')\n",
    "plt.show()"
   ]
  },
  {
   "cell_type": "markdown",
   "id": "fe9bb588-a433-47b7-bf96-29ed86dd2d19",
   "metadata": {},
   "source": [
    "**Оранжевая зона графика отражает расстояние поездок пользователей без подписки. Синяя зона графика отражает расстояние поездок пользователей с подпиской. Пользователи без подписки преобладают в поездках на короткие расстояния до 1000 км и также проезжают более длинные дистанции, чем пользователи с подпиской.**"
   ]
  },
  {
   "cell_type": "markdown",
   "id": "402d620f",
   "metadata": {},
   "source": [
    "#### Шаг 5. Подсчёт выручки"
   ]
  },
  {
   "cell_type": "code",
   "execution_count": 39,
   "id": "53049e0a",
   "metadata": {},
   "outputs": [
    {
     "data": {
      "text/html": [
       "<div>\n",
       "<style scoped>\n",
       "    .dataframe tbody tr th:only-of-type {\n",
       "        vertical-align: middle;\n",
       "    }\n",
       "\n",
       "    .dataframe tbody tr th {\n",
       "        vertical-align: top;\n",
       "    }\n",
       "\n",
       "    .dataframe thead th {\n",
       "        text-align: right;\n",
       "    }\n",
       "</style>\n",
       "<table border=\"1\" class=\"dataframe\">\n",
       "  <thead>\n",
       "    <tr style=\"text-align: right;\">\n",
       "      <th></th>\n",
       "      <th></th>\n",
       "      <th></th>\n",
       "      <th></th>\n",
       "      <th></th>\n",
       "      <th>distance</th>\n",
       "      <th>duration</th>\n",
       "      <th>amount</th>\n",
       "      <th>subscription_type</th>\n",
       "      <th>minute_price</th>\n",
       "      <th>start_ride_price</th>\n",
       "      <th>subscription_fee</th>\n",
       "    </tr>\n",
       "    <tr>\n",
       "      <th>user_id</th>\n",
       "      <th>month</th>\n",
       "      <th>minute_price</th>\n",
       "      <th>start_ride_price</th>\n",
       "      <th>subscription_fee</th>\n",
       "      <th></th>\n",
       "      <th></th>\n",
       "      <th></th>\n",
       "      <th></th>\n",
       "      <th></th>\n",
       "      <th></th>\n",
       "      <th></th>\n",
       "    </tr>\n",
       "  </thead>\n",
       "  <tbody>\n",
       "    <tr>\n",
       "      <th rowspan=\"5\" valign=\"top\">1</th>\n",
       "      <th>1</th>\n",
       "      <th>6</th>\n",
       "      <th>0</th>\n",
       "      <th>199</th>\n",
       "      <td>7027.511294</td>\n",
       "      <td>42.0</td>\n",
       "      <td>2</td>\n",
       "      <td>ultra</td>\n",
       "      <td>6</td>\n",
       "      <td>0</td>\n",
       "      <td>199</td>\n",
       "    </tr>\n",
       "    <tr>\n",
       "      <th>4</th>\n",
       "      <th>6</th>\n",
       "      <th>0</th>\n",
       "      <th>199</th>\n",
       "      <td>754.159807</td>\n",
       "      <td>7.0</td>\n",
       "      <td>1</td>\n",
       "      <td>ultra</td>\n",
       "      <td>6</td>\n",
       "      <td>0</td>\n",
       "      <td>199</td>\n",
       "    </tr>\n",
       "    <tr>\n",
       "      <th>8</th>\n",
       "      <th>6</th>\n",
       "      <th>0</th>\n",
       "      <th>199</th>\n",
       "      <td>6723.470560</td>\n",
       "      <td>46.0</td>\n",
       "      <td>2</td>\n",
       "      <td>ultra</td>\n",
       "      <td>6</td>\n",
       "      <td>0</td>\n",
       "      <td>199</td>\n",
       "    </tr>\n",
       "    <tr>\n",
       "      <th>10</th>\n",
       "      <th>6</th>\n",
       "      <th>0</th>\n",
       "      <th>199</th>\n",
       "      <td>5809.911100</td>\n",
       "      <td>32.0</td>\n",
       "      <td>2</td>\n",
       "      <td>ultra</td>\n",
       "      <td>6</td>\n",
       "      <td>0</td>\n",
       "      <td>199</td>\n",
       "    </tr>\n",
       "    <tr>\n",
       "      <th>11</th>\n",
       "      <th>6</th>\n",
       "      <th>0</th>\n",
       "      <th>199</th>\n",
       "      <td>7003.499363</td>\n",
       "      <td>56.0</td>\n",
       "      <td>3</td>\n",
       "      <td>ultra</td>\n",
       "      <td>6</td>\n",
       "      <td>0</td>\n",
       "      <td>199</td>\n",
       "    </tr>\n",
       "    <tr>\n",
       "      <th>...</th>\n",
       "      <th>...</th>\n",
       "      <th>...</th>\n",
       "      <th>...</th>\n",
       "      <th>...</th>\n",
       "      <td>...</td>\n",
       "      <td>...</td>\n",
       "      <td>...</td>\n",
       "      <td>...</td>\n",
       "      <td>...</td>\n",
       "      <td>...</td>\n",
       "      <td>...</td>\n",
       "    </tr>\n",
       "    <tr>\n",
       "      <th rowspan=\"5\" valign=\"top\">1534</th>\n",
       "      <th>6</th>\n",
       "      <th>8</th>\n",
       "      <th>50</th>\n",
       "      <th>0</th>\n",
       "      <td>3409.468534</td>\n",
       "      <td>26.0</td>\n",
       "      <td>2</td>\n",
       "      <td>free</td>\n",
       "      <td>8</td>\n",
       "      <td>50</td>\n",
       "      <td>0</td>\n",
       "    </tr>\n",
       "    <tr>\n",
       "      <th>8</th>\n",
       "      <th>8</th>\n",
       "      <th>50</th>\n",
       "      <th>0</th>\n",
       "      <td>7622.453034</td>\n",
       "      <td>48.0</td>\n",
       "      <td>2</td>\n",
       "      <td>free</td>\n",
       "      <td>8</td>\n",
       "      <td>50</td>\n",
       "      <td>0</td>\n",
       "    </tr>\n",
       "    <tr>\n",
       "      <th>9</th>\n",
       "      <th>8</th>\n",
       "      <th>50</th>\n",
       "      <th>0</th>\n",
       "      <td>4928.173852</td>\n",
       "      <td>23.0</td>\n",
       "      <td>1</td>\n",
       "      <td>free</td>\n",
       "      <td>8</td>\n",
       "      <td>50</td>\n",
       "      <td>0</td>\n",
       "    </tr>\n",
       "    <tr>\n",
       "      <th>11</th>\n",
       "      <th>8</th>\n",
       "      <th>50</th>\n",
       "      <th>0</th>\n",
       "      <td>13350.015305</td>\n",
       "      <td>78.0</td>\n",
       "      <td>4</td>\n",
       "      <td>free</td>\n",
       "      <td>8</td>\n",
       "      <td>50</td>\n",
       "      <td>0</td>\n",
       "    </tr>\n",
       "    <tr>\n",
       "      <th>12</th>\n",
       "      <th>8</th>\n",
       "      <th>50</th>\n",
       "      <th>0</th>\n",
       "      <td>2371.711192</td>\n",
       "      <td>16.0</td>\n",
       "      <td>1</td>\n",
       "      <td>free</td>\n",
       "      <td>8</td>\n",
       "      <td>50</td>\n",
       "      <td>0</td>\n",
       "    </tr>\n",
       "  </tbody>\n",
       "</table>\n",
       "<p>11331 rows × 7 columns</p>\n",
       "</div>"
      ],
      "text/plain": [
       "                                                                  distance  \\\n",
       "user_id month minute_price start_ride_price subscription_fee                 \n",
       "1       1     6            0                199                7027.511294   \n",
       "        4     6            0                199                 754.159807   \n",
       "        8     6            0                199                6723.470560   \n",
       "        10    6            0                199                5809.911100   \n",
       "        11    6            0                199                7003.499363   \n",
       "...                                                                    ...   \n",
       "1534    6     8            50               0                  3409.468534   \n",
       "        8     8            50               0                  7622.453034   \n",
       "        9     8            50               0                  4928.173852   \n",
       "        11    8            50               0                 13350.015305   \n",
       "        12    8            50               0                  2371.711192   \n",
       "\n",
       "                                                              duration  \\\n",
       "user_id month minute_price start_ride_price subscription_fee             \n",
       "1       1     6            0                199                   42.0   \n",
       "        4     6            0                199                    7.0   \n",
       "        8     6            0                199                   46.0   \n",
       "        10    6            0                199                   32.0   \n",
       "        11    6            0                199                   56.0   \n",
       "...                                                                ...   \n",
       "1534    6     8            50               0                     26.0   \n",
       "        8     8            50               0                     48.0   \n",
       "        9     8            50               0                     23.0   \n",
       "        11    8            50               0                     78.0   \n",
       "        12    8            50               0                     16.0   \n",
       "\n",
       "                                                              amount  \\\n",
       "user_id month minute_price start_ride_price subscription_fee           \n",
       "1       1     6            0                199                    2   \n",
       "        4     6            0                199                    1   \n",
       "        8     6            0                199                    2   \n",
       "        10    6            0                199                    2   \n",
       "        11    6            0                199                    3   \n",
       "...                                                              ...   \n",
       "1534    6     8            50               0                      2   \n",
       "        8     8            50               0                      2   \n",
       "        9     8            50               0                      1   \n",
       "        11    8            50               0                      4   \n",
       "        12    8            50               0                      1   \n",
       "\n",
       "                                                             subscription_type  \\\n",
       "user_id month minute_price start_ride_price subscription_fee                     \n",
       "1       1     6            0                199                          ultra   \n",
       "        4     6            0                199                          ultra   \n",
       "        8     6            0                199                          ultra   \n",
       "        10    6            0                199                          ultra   \n",
       "        11    6            0                199                          ultra   \n",
       "...                                                                        ...   \n",
       "1534    6     8            50               0                             free   \n",
       "        8     8            50               0                             free   \n",
       "        9     8            50               0                             free   \n",
       "        11    8            50               0                             free   \n",
       "        12    8            50               0                             free   \n",
       "\n",
       "                                                              minute_price  \\\n",
       "user_id month minute_price start_ride_price subscription_fee                 \n",
       "1       1     6            0                199                          6   \n",
       "        4     6            0                199                          6   \n",
       "        8     6            0                199                          6   \n",
       "        10    6            0                199                          6   \n",
       "        11    6            0                199                          6   \n",
       "...                                                                    ...   \n",
       "1534    6     8            50               0                            8   \n",
       "        8     8            50               0                            8   \n",
       "        9     8            50               0                            8   \n",
       "        11    8            50               0                            8   \n",
       "        12    8            50               0                            8   \n",
       "\n",
       "                                                              start_ride_price  \\\n",
       "user_id month minute_price start_ride_price subscription_fee                     \n",
       "1       1     6            0                199                              0   \n",
       "        4     6            0                199                              0   \n",
       "        8     6            0                199                              0   \n",
       "        10    6            0                199                              0   \n",
       "        11    6            0                199                              0   \n",
       "...                                                                        ...   \n",
       "1534    6     8            50               0                               50   \n",
       "        8     8            50               0                               50   \n",
       "        9     8            50               0                               50   \n",
       "        11    8            50               0                               50   \n",
       "        12    8            50               0                               50   \n",
       "\n",
       "                                                              subscription_fee  \n",
       "user_id month minute_price start_ride_price subscription_fee                    \n",
       "1       1     6            0                199                            199  \n",
       "        4     6            0                199                            199  \n",
       "        8     6            0                199                            199  \n",
       "        10    6            0                199                            199  \n",
       "        11    6            0                199                            199  \n",
       "...                                                                        ...  \n",
       "1534    6     8            50               0                                0  \n",
       "        8     8            50               0                                0  \n",
       "        9     8            50               0                                0  \n",
       "        11    8            50               0                                0  \n",
       "        12    8            50               0                                0  \n",
       "\n",
       "[11331 rows x 7 columns]"
      ]
     },
     "execution_count": 39,
     "metadata": {},
     "output_type": "execute_result"
    }
   ],
   "source": [
    "data['duration'] = np.ceil(data['duration'])\n",
    "data_grouped = data.groupby(['user_id', 'month', 'minute_price', 'start_ride_price', 'subscription_fee'])\\\n",
    ".agg({'distance':'sum', 'duration':'sum', 'user_id':'count','subscription_type':'min',\\\n",
    "      'minute_price':'min', 'start_ride_price':'min', 'subscription_fee':'min' })\n",
    "data_grouped.columns = ['distance', 'duration', 'amount', 'subscription_type', 'minute_price', 'start_ride_price', 'subscription_fee']\n",
    "data_grouped"
   ]
  },
  {
   "cell_type": "code",
   "execution_count": 40,
   "id": "1c0a14a6-19fb-4b5f-8ace-683be259e916",
   "metadata": {},
   "outputs": [
    {
     "data": {
      "text/plain": [
       "distance             0\n",
       "duration             0\n",
       "amount               0\n",
       "subscription_type    0\n",
       "minute_price         0\n",
       "start_ride_price     0\n",
       "subscription_fee     0\n",
       "dtype: int64"
      ]
     },
     "execution_count": 40,
     "metadata": {},
     "output_type": "execute_result"
    }
   ],
   "source": [
    "# Проверяем data_grouped на наличие пропусков\n",
    "data_grouped.isna().sum()"
   ]
  },
  {
   "cell_type": "code",
   "execution_count": 41,
   "id": "2fa33dda-32da-46ed-be2c-48f05ccfe52b",
   "metadata": {},
   "outputs": [],
   "source": [
    "def payment(row):\n",
    "    \n",
    "    subscription = row['subscription_type']\n",
    "    duration = row['duration']\n",
    "    amount = row['amount']\n",
    "    start_ride_price = row['start_ride_price']\n",
    "    minute_price = row['minute_price']\n",
    "    subscription_fee = row['subscription_fee']\n",
    "    \n",
    "    if subscription == 'free':\n",
    "        payment = start_ride_price * amount + minute_price * duration\n",
    "        return payment\n",
    "    if subscription == 'ultra':\n",
    "        payment = duration * minute_price + subscription_fee\n",
    "        return payment\n",
    "data_grouped['payment'] = data_grouped.apply(payment, axis = 1)"
   ]
  },
  {
   "cell_type": "code",
   "execution_count": 42,
   "id": "ac904fba-0cbc-4d3b-ac1e-d713a10460aa",
   "metadata": {},
   "outputs": [
    {
     "data": {
      "text/html": [
       "<div>\n",
       "<style scoped>\n",
       "    .dataframe tbody tr th:only-of-type {\n",
       "        vertical-align: middle;\n",
       "    }\n",
       "\n",
       "    .dataframe tbody tr th {\n",
       "        vertical-align: top;\n",
       "    }\n",
       "\n",
       "    .dataframe thead th {\n",
       "        text-align: right;\n",
       "    }\n",
       "</style>\n",
       "<table border=\"1\" class=\"dataframe\">\n",
       "  <thead>\n",
       "    <tr style=\"text-align: right;\">\n",
       "      <th></th>\n",
       "      <th></th>\n",
       "      <th></th>\n",
       "      <th></th>\n",
       "      <th></th>\n",
       "      <th>distance</th>\n",
       "      <th>duration</th>\n",
       "      <th>amount</th>\n",
       "      <th>subscription_type</th>\n",
       "      <th>minute_price</th>\n",
       "      <th>start_ride_price</th>\n",
       "      <th>subscription_fee</th>\n",
       "      <th>payment</th>\n",
       "    </tr>\n",
       "    <tr>\n",
       "      <th>user_id</th>\n",
       "      <th>month</th>\n",
       "      <th>minute_price</th>\n",
       "      <th>start_ride_price</th>\n",
       "      <th>subscription_fee</th>\n",
       "      <th></th>\n",
       "      <th></th>\n",
       "      <th></th>\n",
       "      <th></th>\n",
       "      <th></th>\n",
       "      <th></th>\n",
       "      <th></th>\n",
       "      <th></th>\n",
       "    </tr>\n",
       "  </thead>\n",
       "  <tbody>\n",
       "    <tr>\n",
       "      <th rowspan=\"5\" valign=\"top\">1</th>\n",
       "      <th>1</th>\n",
       "      <th>6</th>\n",
       "      <th>0</th>\n",
       "      <th>199</th>\n",
       "      <td>7027.511294</td>\n",
       "      <td>42.0</td>\n",
       "      <td>2</td>\n",
       "      <td>ultra</td>\n",
       "      <td>6</td>\n",
       "      <td>0</td>\n",
       "      <td>199</td>\n",
       "      <td>451.0</td>\n",
       "    </tr>\n",
       "    <tr>\n",
       "      <th>4</th>\n",
       "      <th>6</th>\n",
       "      <th>0</th>\n",
       "      <th>199</th>\n",
       "      <td>754.159807</td>\n",
       "      <td>7.0</td>\n",
       "      <td>1</td>\n",
       "      <td>ultra</td>\n",
       "      <td>6</td>\n",
       "      <td>0</td>\n",
       "      <td>199</td>\n",
       "      <td>241.0</td>\n",
       "    </tr>\n",
       "    <tr>\n",
       "      <th>8</th>\n",
       "      <th>6</th>\n",
       "      <th>0</th>\n",
       "      <th>199</th>\n",
       "      <td>6723.470560</td>\n",
       "      <td>46.0</td>\n",
       "      <td>2</td>\n",
       "      <td>ultra</td>\n",
       "      <td>6</td>\n",
       "      <td>0</td>\n",
       "      <td>199</td>\n",
       "      <td>475.0</td>\n",
       "    </tr>\n",
       "    <tr>\n",
       "      <th>10</th>\n",
       "      <th>6</th>\n",
       "      <th>0</th>\n",
       "      <th>199</th>\n",
       "      <td>5809.911100</td>\n",
       "      <td>32.0</td>\n",
       "      <td>2</td>\n",
       "      <td>ultra</td>\n",
       "      <td>6</td>\n",
       "      <td>0</td>\n",
       "      <td>199</td>\n",
       "      <td>391.0</td>\n",
       "    </tr>\n",
       "    <tr>\n",
       "      <th>11</th>\n",
       "      <th>6</th>\n",
       "      <th>0</th>\n",
       "      <th>199</th>\n",
       "      <td>7003.499363</td>\n",
       "      <td>56.0</td>\n",
       "      <td>3</td>\n",
       "      <td>ultra</td>\n",
       "      <td>6</td>\n",
       "      <td>0</td>\n",
       "      <td>199</td>\n",
       "      <td>535.0</td>\n",
       "    </tr>\n",
       "    <tr>\n",
       "      <th>...</th>\n",
       "      <th>...</th>\n",
       "      <th>...</th>\n",
       "      <th>...</th>\n",
       "      <th>...</th>\n",
       "      <td>...</td>\n",
       "      <td>...</td>\n",
       "      <td>...</td>\n",
       "      <td>...</td>\n",
       "      <td>...</td>\n",
       "      <td>...</td>\n",
       "      <td>...</td>\n",
       "      <td>...</td>\n",
       "    </tr>\n",
       "    <tr>\n",
       "      <th rowspan=\"5\" valign=\"top\">1534</th>\n",
       "      <th>6</th>\n",
       "      <th>8</th>\n",
       "      <th>50</th>\n",
       "      <th>0</th>\n",
       "      <td>3409.468534</td>\n",
       "      <td>26.0</td>\n",
       "      <td>2</td>\n",
       "      <td>free</td>\n",
       "      <td>8</td>\n",
       "      <td>50</td>\n",
       "      <td>0</td>\n",
       "      <td>308.0</td>\n",
       "    </tr>\n",
       "    <tr>\n",
       "      <th>8</th>\n",
       "      <th>8</th>\n",
       "      <th>50</th>\n",
       "      <th>0</th>\n",
       "      <td>7622.453034</td>\n",
       "      <td>48.0</td>\n",
       "      <td>2</td>\n",
       "      <td>free</td>\n",
       "      <td>8</td>\n",
       "      <td>50</td>\n",
       "      <td>0</td>\n",
       "      <td>484.0</td>\n",
       "    </tr>\n",
       "    <tr>\n",
       "      <th>9</th>\n",
       "      <th>8</th>\n",
       "      <th>50</th>\n",
       "      <th>0</th>\n",
       "      <td>4928.173852</td>\n",
       "      <td>23.0</td>\n",
       "      <td>1</td>\n",
       "      <td>free</td>\n",
       "      <td>8</td>\n",
       "      <td>50</td>\n",
       "      <td>0</td>\n",
       "      <td>234.0</td>\n",
       "    </tr>\n",
       "    <tr>\n",
       "      <th>11</th>\n",
       "      <th>8</th>\n",
       "      <th>50</th>\n",
       "      <th>0</th>\n",
       "      <td>13350.015305</td>\n",
       "      <td>78.0</td>\n",
       "      <td>4</td>\n",
       "      <td>free</td>\n",
       "      <td>8</td>\n",
       "      <td>50</td>\n",
       "      <td>0</td>\n",
       "      <td>824.0</td>\n",
       "    </tr>\n",
       "    <tr>\n",
       "      <th>12</th>\n",
       "      <th>8</th>\n",
       "      <th>50</th>\n",
       "      <th>0</th>\n",
       "      <td>2371.711192</td>\n",
       "      <td>16.0</td>\n",
       "      <td>1</td>\n",
       "      <td>free</td>\n",
       "      <td>8</td>\n",
       "      <td>50</td>\n",
       "      <td>0</td>\n",
       "      <td>178.0</td>\n",
       "    </tr>\n",
       "  </tbody>\n",
       "</table>\n",
       "<p>11331 rows × 8 columns</p>\n",
       "</div>"
      ],
      "text/plain": [
       "                                                                  distance  \\\n",
       "user_id month minute_price start_ride_price subscription_fee                 \n",
       "1       1     6            0                199                7027.511294   \n",
       "        4     6            0                199                 754.159807   \n",
       "        8     6            0                199                6723.470560   \n",
       "        10    6            0                199                5809.911100   \n",
       "        11    6            0                199                7003.499363   \n",
       "...                                                                    ...   \n",
       "1534    6     8            50               0                  3409.468534   \n",
       "        8     8            50               0                  7622.453034   \n",
       "        9     8            50               0                  4928.173852   \n",
       "        11    8            50               0                 13350.015305   \n",
       "        12    8            50               0                  2371.711192   \n",
       "\n",
       "                                                              duration  \\\n",
       "user_id month minute_price start_ride_price subscription_fee             \n",
       "1       1     6            0                199                   42.0   \n",
       "        4     6            0                199                    7.0   \n",
       "        8     6            0                199                   46.0   \n",
       "        10    6            0                199                   32.0   \n",
       "        11    6            0                199                   56.0   \n",
       "...                                                                ...   \n",
       "1534    6     8            50               0                     26.0   \n",
       "        8     8            50               0                     48.0   \n",
       "        9     8            50               0                     23.0   \n",
       "        11    8            50               0                     78.0   \n",
       "        12    8            50               0                     16.0   \n",
       "\n",
       "                                                              amount  \\\n",
       "user_id month minute_price start_ride_price subscription_fee           \n",
       "1       1     6            0                199                    2   \n",
       "        4     6            0                199                    1   \n",
       "        8     6            0                199                    2   \n",
       "        10    6            0                199                    2   \n",
       "        11    6            0                199                    3   \n",
       "...                                                              ...   \n",
       "1534    6     8            50               0                      2   \n",
       "        8     8            50               0                      2   \n",
       "        9     8            50               0                      1   \n",
       "        11    8            50               0                      4   \n",
       "        12    8            50               0                      1   \n",
       "\n",
       "                                                             subscription_type  \\\n",
       "user_id month minute_price start_ride_price subscription_fee                     \n",
       "1       1     6            0                199                          ultra   \n",
       "        4     6            0                199                          ultra   \n",
       "        8     6            0                199                          ultra   \n",
       "        10    6            0                199                          ultra   \n",
       "        11    6            0                199                          ultra   \n",
       "...                                                                        ...   \n",
       "1534    6     8            50               0                             free   \n",
       "        8     8            50               0                             free   \n",
       "        9     8            50               0                             free   \n",
       "        11    8            50               0                             free   \n",
       "        12    8            50               0                             free   \n",
       "\n",
       "                                                              minute_price  \\\n",
       "user_id month minute_price start_ride_price subscription_fee                 \n",
       "1       1     6            0                199                          6   \n",
       "        4     6            0                199                          6   \n",
       "        8     6            0                199                          6   \n",
       "        10    6            0                199                          6   \n",
       "        11    6            0                199                          6   \n",
       "...                                                                    ...   \n",
       "1534    6     8            50               0                            8   \n",
       "        8     8            50               0                            8   \n",
       "        9     8            50               0                            8   \n",
       "        11    8            50               0                            8   \n",
       "        12    8            50               0                            8   \n",
       "\n",
       "                                                              start_ride_price  \\\n",
       "user_id month minute_price start_ride_price subscription_fee                     \n",
       "1       1     6            0                199                              0   \n",
       "        4     6            0                199                              0   \n",
       "        8     6            0                199                              0   \n",
       "        10    6            0                199                              0   \n",
       "        11    6            0                199                              0   \n",
       "...                                                                        ...   \n",
       "1534    6     8            50               0                               50   \n",
       "        8     8            50               0                               50   \n",
       "        9     8            50               0                               50   \n",
       "        11    8            50               0                               50   \n",
       "        12    8            50               0                               50   \n",
       "\n",
       "                                                              subscription_fee  \\\n",
       "user_id month minute_price start_ride_price subscription_fee                     \n",
       "1       1     6            0                199                            199   \n",
       "        4     6            0                199                            199   \n",
       "        8     6            0                199                            199   \n",
       "        10    6            0                199                            199   \n",
       "        11    6            0                199                            199   \n",
       "...                                                                        ...   \n",
       "1534    6     8            50               0                                0   \n",
       "        8     8            50               0                                0   \n",
       "        9     8            50               0                                0   \n",
       "        11    8            50               0                                0   \n",
       "        12    8            50               0                                0   \n",
       "\n",
       "                                                              payment  \n",
       "user_id month minute_price start_ride_price subscription_fee           \n",
       "1       1     6            0                199                 451.0  \n",
       "        4     6            0                199                 241.0  \n",
       "        8     6            0                199                 475.0  \n",
       "        10    6            0                199                 391.0  \n",
       "        11    6            0                199                 535.0  \n",
       "...                                                               ...  \n",
       "1534    6     8            50               0                   308.0  \n",
       "        8     8            50               0                   484.0  \n",
       "        9     8            50               0                   234.0  \n",
       "        11    8            50               0                   824.0  \n",
       "        12    8            50               0                   178.0  \n",
       "\n",
       "[11331 rows x 8 columns]"
      ]
     },
     "execution_count": 42,
     "metadata": {},
     "output_type": "execute_result"
    }
   ],
   "source": [
    "data_grouped"
   ]
  },
  {
   "cell_type": "code",
   "execution_count": 43,
   "id": "db80e2c9",
   "metadata": {},
   "outputs": [
    {
     "name": "stdout",
     "output_type": "stream",
     "text": [
      "Общая выручка за 2021 год: 3878641.0\n"
     ]
    }
   ],
   "source": [
    "print('Общая выручка за 2021 год:', data_grouped['payment'].sum())"
   ]
  },
  {
   "cell_type": "code",
   "execution_count": 44,
   "id": "734062e3-a7cc-4344-9aa3-5439fab756b4",
   "metadata": {},
   "outputs": [
    {
     "name": "stdout",
     "output_type": "stream",
     "text": [
      "Общая выручка за 2021 год пользователей без подписки: 2234104.0\n",
      "Средняя выручка за 2021 год пользователей без подписки: 328.6413651073845\n"
     ]
    }
   ],
   "source": [
    "print('Общая выручка за 2021 год пользователей без подписки:', \\\n",
    "      data_grouped.loc[data_grouped['subscription_type'] == 'free', 'payment'].sum())\n",
    "print('Средняя выручка за 2021 год пользователей без подписки:', \\\n",
    "      data_grouped.loc[data_grouped['subscription_type'] == 'free', 'payment'].mean())"
   ]
  },
  {
   "cell_type": "code",
   "execution_count": 45,
   "id": "bbe0941c-d64c-42d4-b6e7-15710863d9a9",
   "metadata": {},
   "outputs": [
    {
     "name": "stdout",
     "output_type": "stream",
     "text": [
      "Общая выручка за 2021 год пользователей с подпиской: 1644537.0\n",
      "Средняя выручка за 2021 год пользователей с подпиской: 362.7921906022502\n"
     ]
    }
   ],
   "source": [
    "print('Общая выручка за 2021 год пользователей с подпиской:', \\\n",
    "      data_grouped.loc[data_grouped['subscription_type'] == 'ultra', 'payment'].sum())\n",
    "print('Средняя выручка за 2021 год пользователей с подпиской:', \\\n",
    "      data_grouped.loc[data_grouped['subscription_type'] == 'ultra', 'payment'].mean())"
   ]
  },
  {
   "cell_type": "markdown",
   "id": "1e203d99-2a3d-43a8-a826-848c2572338f",
   "metadata": {},
   "source": [
    "**Выручка сервиса аренды самокатов \"GoFast\" за 2021 год составила 3 878 641 рублей.**"
   ]
  },
  {
   "cell_type": "markdown",
   "id": "41545ac0",
   "metadata": {},
   "source": [
    "#### Шаг 6. Проверка гипотез"
   ]
  },
  {
   "cell_type": "markdown",
   "id": "ce8269e0-7a84-440f-8de5-c27d444cb169",
   "metadata": {},
   "source": [
    "**6.1:** Пользователи с подпиской тратят больше времени на поездки. Если да, то пользователи с подпиской могут быть «выгоднее» для компании.\n",
    "\n",
    "**H₀:** Средняя продолжительность поездок с подпиской ultra **равна** средней продолжительности поездок без подписки free\\\n",
    "**H₁:** Средняя продолжительность поездок с подпиской ultra **больше** средней продолжительности поездок без подписки free"
   ]
  },
  {
   "cell_type": "code",
   "execution_count": 46,
   "id": "793cc42d-f8f6-4cf3-9d53-78e19e2ba595",
   "metadata": {},
   "outputs": [
    {
     "name": "stdout",
     "output_type": "stream",
     "text": [
      "p-value: 1.2804098316645618e-34\n",
      "Отвергаем нулевую гипотезу\n"
     ]
    }
   ],
   "source": [
    "free = data_free['duration']\n",
    "ultra = data_ultra['duration']\n",
    "\n",
    "alpha = 0.05\n",
    "results = st.ttest_ind(\n",
    "    ultra,\n",
    "    free,\n",
    "    alternative = 'greater'\n",
    ")\n",
    "\n",
    "print(f'p-value: {results.pvalue}')\n",
    "\n",
    "if results.pvalue < alpha:\n",
    "    print('Отвергаем нулевую гипотезу')\n",
    "else:\n",
    "    print('Не получилось отвергнуть нулевую гипотезу')"
   ]
  },
  {
   "cell_type": "markdown",
   "id": "d260da37-88f5-4500-9285-aac6c9e74f7b",
   "metadata": {},
   "source": [
    "**В результате наша нулевая гипотеза о том, что пользователи с подпиской тратят такое же время на поездки, что пользователи без подписки была отвергнута. Можем предположить, что пользователи с подпиской тратят больше времени на поездки, чем пользователи без подписки, что хорошо сказывается на прибыли, так как цена за минуту поездки с подпиской ниже. Поэтому более длительные поездки могут покрыть разницу в цене за минуту.**"
   ]
  },
  {
   "cell_type": "markdown",
   "id": "2ad89d55-44cb-450f-aeba-32b6a65f648e",
   "metadata": {},
   "source": [
    "**6.2:** Расстояние одной поездки в 3130 метров — оптимальное с точки зрения износа самоката. Можно ли сказать, что среднее расстояние, которое проезжают пользователи с подпиской за одну поездку, не превышает 3130 метров? \n",
    "\n",
    "**H₀:** Средняя пройденная дистанция с подпиской ultra **равна** оптимальному расстоянию 3130 метров\\\n",
    "**H₁:** Средняя пройденная дистанция с подпиской ultra **больше** оптимального расстояния 3130 метров"
   ]
  },
  {
   "cell_type": "code",
   "execution_count": 47,
   "id": "3edfea1f-eea0-4330-a846-96f28f88bbb9",
   "metadata": {},
   "outputs": [
    {
     "name": "stdout",
     "output_type": "stream",
     "text": [
      "p-value: 0.9195368847849785\n",
      "Не получилось отвергнуть нулевую гипотезу\n"
     ]
    }
   ],
   "source": [
    "ultra_distance = data_ultra['distance']\n",
    "value = 3130\n",
    "\n",
    "alpha = 0.05\n",
    "results = st.ttest_1samp(\n",
    "    ultra_distance,\n",
    "    value,\n",
    "    alternative = 'greater'\n",
    ")\n",
    "\n",
    "print(f'p-value: {results.pvalue}')\n",
    "\n",
    "if results.pvalue < alpha:\n",
    "    print('Отвергаем нулевую гипотезу')\n",
    "else:\n",
    "    print('Не получилось отвергнуть нулевую гипотезу')"
   ]
  },
  {
   "cell_type": "markdown",
   "id": "db22a6d7-850a-4155-8246-4ff700803a1f",
   "metadata": {},
   "source": [
    "**В результате нулевая гипотеза не была отвергнута, значит, средняя пройденная дистанция с подпиской ultra меньше либо равна оптимальному расстоянию в 3130 метров. Такой результат позволяет оценить необходимость замены самокатов для комфорта пользователей.**"
   ]
  },
  {
   "cell_type": "markdown",
   "id": "f869742c-3bd2-4bc9-8fac-ae2b141f7681",
   "metadata": {},
   "source": [
    "**6.3:** Проверьте гипотезу о том, будет ли помесячная выручка от пользователей с подпиской по месяцам выше, чем выручка от пользователей без подписки. \n",
    "\n",
    "**H₀:** Средняя помесячная выручка пользователей с подпиской ultra **равна** средней помесячной выручке пользователей без подписки free\\\n",
    "**H₁:** Средняя помесячная выручка пользователей с подпиской ultra **больше** средней помесячной выручки пользователей без подписки free"
   ]
  },
  {
   "cell_type": "code",
   "execution_count": 48,
   "id": "5b7dae2c-585a-4d9b-acf7-f4656cecc5a9",
   "metadata": {},
   "outputs": [
    {
     "name": "stdout",
     "output_type": "stream",
     "text": [
      "p-value: 1.8850394384715216e-31\n",
      "Отвергаем нулевую гипотезу\n"
     ]
    }
   ],
   "source": [
    "free_payment = data_grouped.loc[data_grouped['subscription_type'] == 'free', 'payment']\n",
    "ultra_payment = data_grouped.loc[data_grouped['subscription_type'] == 'ultra', 'payment']\n",
    "\n",
    "alpha = 0.05\n",
    "results = st.ttest_ind(\n",
    "    ultra_payment,\n",
    "    free_payment,\n",
    "    alternative = 'greater'\n",
    ")\n",
    "\n",
    "print(f'p-value: {results.pvalue}')\n",
    "\n",
    "if results.pvalue < alpha:\n",
    "    print('Отвергаем нулевую гипотезу')\n",
    "else:\n",
    "    print('Не получилось отвергнуть нулевую гипотезу')"
   ]
  },
  {
   "cell_type": "markdown",
   "id": "e558dcce-82ca-4f70-bbca-91cace262935",
   "metadata": {},
   "source": [
    "**В результате была отвергнута нулевая гипотеза, следовательно можем предположить, что выручка от пользователей с подпиской выше, чем выручка от пользователей без подписки. Если данный показатель подтвердится, то компании \"GoFast\" стоит делать акцент на продаже подписок для повышения прибыли.**"
   ]
  },
  {
   "cell_type": "markdown",
   "id": "0dae4f39-2c48-4a2d-842f-9cc696c73c86",
   "metadata": {},
   "source": [
    "**6.4** Представьте такую ситуацию: техническая команда сервиса обновила сервера, с которыми взаимодействует мобильное приложение. Она надеется, что из-за этого количество обращений в техподдержку значимо снизилось. Некоторый файл содержит для каждого пользователя данные о количестве обращений до обновления и после него. Какой тест вам понадобился бы для проверки этой гипотезы?"
   ]
  },
  {
   "cell_type": "markdown",
   "id": "bd1f82e4-d53f-4d7e-ae13-e85194fe70c3",
   "metadata": {},
   "source": [
    "**H₀:** Среднее количество обращений до обновления **равно** среднему количеству обращений после обновления\\\n",
    "**H₁:** Среднее количество обращений до обновления **больше** среднего количества обращений после обновления"
   ]
  },
  {
   "cell_type": "markdown",
   "id": "37f245ff-8740-401c-a80b-e241c6d55bd7",
   "metadata": {},
   "source": [
    "**Для проверки данной гипотезы понадобится двухвыборочный t-тест для зависимых выборок (scipy.stats.ttest_rel()). Сначала подаём выборку до обновления, затем выборку после проведенного обновления. Используем правостороннюю гипотезу о том, что истинное среднее количество обращений до изменения больше, чем среднее количество обращений после изменения.**"
   ]
  },
  {
   "cell_type": "code",
   "execution_count": 49,
   "id": "0bf7acbb-43c9-420e-854f-ef15dd447f47",
   "metadata": {},
   "outputs": [
    {
     "name": "stdout",
     "output_type": "stream",
     "text": [
      "p-значение: 0.9970870137710205\n",
      "Не получилось отвергнуть нулевую гипотезу\n"
     ]
    }
   ],
   "source": [
    "before = [157, 114, 152, 355, 155, 513, 299, 268, 164, 320, \n",
    "          192, 262, 506, 240, 364, 179, 246, 427, 187, 431, \n",
    "          320, 193, 313, 347, 312, 92, 177, 225, 242, 312]\n",
    "\n",
    "after = [282, 220, 162, 226, 296, 479, 248, 322, 298, 418, \n",
    "         552, 246, 251, 404, 368, 484, 358, 264, 359, 410, \n",
    "         382, 350, 406, 416, 438, 364, 283, 314, 420, 218]\n",
    "\n",
    "alpha = 0.05 \n",
    "\n",
    "results = st.ttest_rel(before, after, alternative = 'greater')\n",
    "\n",
    "print('p-значение:', results.pvalue)\n",
    "\n",
    "if results.pvalue < alpha:\n",
    "    print('Отвергаем нулевую гипотезу')\n",
    "else:\n",
    "    print('Не получилось отвергнуть нулевую гипотезу')"
   ]
  },
  {
   "cell_type": "markdown",
   "id": "403568ee-2b7f-4dbc-941b-d35862f5f8af",
   "metadata": {},
   "source": [
    "## Общий вывод"
   ]
  },
  {
   "cell_type": "markdown",
   "id": "6044a94e-c870-42e4-8c3a-34b736d558c4",
   "metadata": {},
   "source": [
    "**В проведенном исследовании мы рассмотрели данные о пользователях сервиса самокатов. Благодаря нашему исследованию, мы получили следующие значимые показатели при общем анализе данных:**\n",
    "\n",
    "* Самый популярный город - Пятигорск (219 пользователей), меньше всего пользуется популярностью Москва (168 пользователей)\n",
    "* Пользователи с подпиской составляют 54.4%, без подписки - 45.6%\n",
    "* Самый популярный возраст - 25 лет (145 пользователей). Дети до 14 лет и взрослые старше 36 лет - редкие пользователи сервиса\n",
    "* Чаще всего пользователи преодолевают расстояние в 3000 метров, длительные поездки больше 6000 метров почти не пользуются спросом\n",
    "* Чаще всего поездки у пользователей занимают от 15 до 20 минут\n",
    "\n",
    "**Выручка сервиса аренды самокатов \"GoFast\" за 2021 год составила 3 878 641 рублей. Для пользователей с подпиской и без выручка распределилась следующим образом:**\n",
    "\n",
    "* Общая выручка за 2021 год пользователей без подписки составила 2 234 104 рублей. Для пользователей с подпиской это 1 644 537 рублей\n",
    "* Средняя выручка за 2021 год пользователей без подписки составила 328 рублей. Для пользователей с подпиской - 362 рубля\n",
    "\n",
    "**Сравнивания пользователей с подпиской и без, мы сделали следующие выводы:**\n",
    "\n",
    "* Длительность поездок пользователей без подписки чаще всего составляет 10 - 20 минут, с подпиской 15 - 25 минут. Также с подпиской больше показателей поездок дольше 35 минут.\n",
    "* Самое популярное расстояние, которое преодолевают пользователи без подписки, 2500 метров. С подпиской - 3000 метров. Также без подписки намного популярнее показатели прохождения коротких расстояний до 1000 метров.\n",
    "\n",
    "\n",
    "**Анализируя предложенные гипотезы, получились следующие результаты:**\n",
    "\n",
    "* Средняя продолжительность поездок с подпиской равна средней продолжительности поездок без подписки. **Данная гипотеза была отвергнута**, поэтому мы выдвинули предположение, что пользователи с подпиской тратят больше времени на поездки. Такая ситуация положительно сказывается на сервисе, покрывая более низкую стоимость минуты поездки длительностью.\n",
    "* Средняя пройденная дистанция с подпиской равна оптимальному расстоянию 3130 метров. **Гипотеза не была отвергнута**, поэтому мы оставляем предположение о том, что средняя пройденная дистанция с подпиской меньше либо равна 3130 метров.\n",
    "* Средняя помесячная выручка пользователей с подпиской равна средней помесячной выручке пользователей без подписки. **Гипотеза не подтвердилась**, поэтому мы выдвигаем предположение, что средняя выручка от пользователей с подпиской выше, чем средняя выручка от пользователей без подписки. Если данный показатель подтвердится, то компании \"GoFast\" стоит делать акцент на продаже подписок для повышения прибыли.\n",
    "\n",
    "**Итоговые рекомендации сервису \"GoFast\":**\n",
    "\n",
    "* **Повышение внимания к пользователям с подпиской.** Средняя выручка пользователей с подпиской выше, но общая выручка за год значительно ниже, значит, следует привлекать большее количество пользователей к покупке подписки, например, предлагая стартовые акции и промокоды, чтобы повысить мотивацию попробовать сервис именно с подпиской.\n",
    "* **Доступность самокатов.** Во время анализа городом с самым низким показателем использования самокатов оказалась Москва. Улучшение работы в таком мегаполисе значительно поднимет выручку. Повышение количества парковочных мест, самокатов во всех гордах, может изменить динамику в положительную сторону.\n",
    "* **Поддержка длительных поездок.** Длительные поездки проседают в показателях частоты, чтобы исправить данную ситуацию, можно ввести немного пониженный тариф, стартующий от опредленного количества минут, проведенных в поездке. "
   ]
  },
  {
   "cell_type": "markdown",
   "id": "57b74df2",
   "metadata": {},
   "source": [
    "## Бонус"
   ]
  },
  {
   "cell_type": "markdown",
   "id": "c99f2bc7",
   "metadata": {},
   "source": [
    "### Задача 7.1 — декомпозиция\n",
    "\n",
    "+ Отделу маркетинга GoFast поставили задачу: нужно провести акцию с раздачей промокодов на один бесплатный месяц подписки, в рамках которой как минимум 100 существующих клиентов должны продлить эту подписку. \n",
    "\n",
    "+ То есть по завершении периода действия подписки пользователь может либо отказаться от неё, либо продлить, совершив соответствующий платёж. \n",
    "\n",
    "+ Эта акция уже проводилась ранее и по итогу выяснилось, что после бесплатного пробного периода подписку продлевают 10 % пользователей. \n",
    "\n",
    "+ Выясните, какое минимальное количество промокодов нужно разослать, чтобы вероятность не выполнить план была примерно 5 %. \n",
    "\n",
    "+ Подберите параметры распределения, описывающего эту ситуацию, постройте график распределения и сформулируйте ответ на вопрос о количестве промокодов."
   ]
  },
  {
   "cell_type": "markdown",
   "id": "1de3929a",
   "metadata": {},
   "source": [
    "+ 100 существующих клиентов должны продлить эту подписку.\n",
    " + т.е. мы ищем х - кол-во промокодов, которое мы раздадим, чтобы сохранить 100 клиентов"
   ]
  },
  {
   "cell_type": "markdown",
   "id": "ac43b6dc",
   "metadata": {},
   "source": [
    "+ может либо отказаться от неё, либо продлить\n",
    " + т.е. два исхода"
   ]
  },
  {
   "cell_type": "markdown",
   "id": "4ca2ebc8",
   "metadata": {},
   "source": [
    "+ подписку продлевают 10 % пользователей\n",
    " + т.е. из кол-ва Х, которое мы найдем и по которому разошлем промокоды, полагаясь на предыдущий опыт, продлят подписку 10%"
   ]
  },
  {
   "cell_type": "markdown",
   "id": "fcf61cba",
   "metadata": {},
   "source": [
    "+ вероятность не выполнить план была примерно 5 %\n",
    " + т.е. мы должны найти вероятность успеха нашей акции 1-0,05 = 95%\n",
    " + этот план будет иметь свою вероятность исполнения при разном кол-ве Х, т.е. если мы выберем Х = 1000, вероятность успеха будет равна А, при 2000 промокодах, вероятность будет равна В. Но, увеличивая кол-во промокодов, мы увеличиваем трудозатраты ... По этой причине нас устроит вероятность успеха 95%, для которой и предстоит рассчитать кол-во промокодов Х"
   ]
  },
  {
   "cell_type": "markdown",
   "id": "9aa71f85",
   "metadata": {},
   "source": [
    "Получается задача делиться на две части\n",
    "\n",
    "+ число положительных исходов должно быть равно 100-ам\n",
    "\n",
    "+ но вероятность такого события должна быть равна 95% \n",
    "\n"
   ]
  },
  {
   "cell_type": "markdown",
   "id": "7b36e4c8",
   "metadata": {},
   "source": [
    "Урок\n",
    "\n",
    "Percent Point Function для нормального распределения\n",
    "+ Ранее вы познакомились с функцией распределения, или кумулятивной функцией распределения.\n",
    "\n"
   ]
  },
  {
   "attachments": {
    "image-3.png": {
     "image/png": "[encoded data removed]"
    },
    "image-4.png": {
     "image/png": "[encoded data removed]"
    }
   },
   "cell_type": "markdown",
   "id": "5ba3becf",
   "metadata": {},
   "source": [
    "![image-3.png](attachment:image-3.png)\n",
    "\n",
    "![image-4.png](attachment:image-4.png)"
   ]
  },
  {
   "cell_type": "code",
   "execution_count": 50,
   "id": "ce2f9850",
   "metadata": {},
   "outputs": [
    {
     "name": "stdout",
     "output_type": "stream",
     "text": [
      "i: (1, 100)\tprobability: 1.0\n",
      "i: (2, 200)\tprobability: 1.0\n",
      "i: (3, 300)\tprobability: 1.0\n",
      "i: (4, 400)\tprobability: 1.0\n",
      "i: (5, 500)\tprobability: 1.0\n",
      "i: (6, 600)\tprobability: 1.0\n",
      "i: (7, 700)\tprobability: 1.0\n",
      "i: (8, 800)\tprobability: 0.987\n",
      "i: (9, 900)\tprobability: 0.854\n",
      "i: (10, 1000)\tprobability: 0.485\n",
      "i: (11, 1100)\tprobability: 0.145\n",
      "i: (12, 1200)\tprobability: 0.022\n"
     ]
    }
   ],
   "source": [
    "for i in range (1, 13):\n",
    "    trials = 100 * i\n",
    "    print(f\"i: {i, trials}\\tprobability: {(st.binom.cdf(99, trials, 0.1)).round(3)}\")"
   ]
  },
  {
   "cell_type": "markdown",
   "id": "f0cb3132",
   "metadata": {},
   "source": [
    "При 100-а розданных промокодов, вероятность того, что успешно продлят подписку менее или равно 99 пользователей будет равна 1-ке, или по другому можно сказать, что это может быть или 5 продливших подписку пользователей, или 99 пользователей\n",
    "                \n",
    "т.е. это нулевой для маркетологов результат, который никого не устраивает\n",
    "        \n",
    "А чем больше промокодов мы раздаем, тем вероятность получить такой результат уменьшается, например при 900-а розданных промокодов уже только с 0,856 вероятностью мы получим или 5 продливших подписку пользователей, или 99 пользователей        \n",
    "        \n",
    "т.е. с вероятностью 0,144 мы получим 100 или более пользователей продливших подписку, но нам надо 95%        \n"
   ]
  },
  {
   "attachments": {},
   "cell_type": "markdown",
   "id": "25a74589",
   "metadata": {},
   "source": [
    "Для того чтобы построить нужный нам график, придется из формулы вычесть 1-ку\n",
    "        \n",
    "1 - значение кумулятивной функции распределения `binom.cdf(k, n, p)` покажет вероятность того, что случайная величина примет значение, которое будет не меньше заданной, т.к. нам необходимо выйти на уровень 95%, почему выбираем значение 99, т.к. по определению функции → меньше или равно       \n",
    "        \n",
    "        "
   ]
  },
  {
   "cell_type": "code",
   "execution_count": 51,
   "id": "8b7e7cf0",
   "metadata": {
    "scrolled": true
   },
   "outputs": [
    {
     "name": "stdout",
     "output_type": "stream",
     "text": [
      "i: (1, 100)\ttarget_probability: 0.0\n",
      "i: (2, 200)\ttarget_probability: 0.0\n",
      "i: (3, 300)\ttarget_probability: 0.0\n",
      "i: (4, 400)\ttarget_probability: 0.0\n",
      "i: (5, 500)\ttarget_probability: 0.0\n",
      "i: (6, 600)\ttarget_probability: 0.0\n",
      "i: (7, 700)\ttarget_probability: 0.0\n",
      "i: (8, 800)\ttarget_probability: 0.013\n",
      "i: (9, 900)\ttarget_probability: 0.146\n",
      "i: (10, 1000)\ttarget_probability: 0.515\n",
      "i: (11, 1100)\ttarget_probability: 0.855\n",
      "i: (12, 1200)\ttarget_probability: 0.978\n",
      "i: (13, 1161)\ttarget_probability: 0.95\n"
     ]
    }
   ],
   "source": [
    "for i in range (1, 13):\n",
    "    trials = 100 * i\n",
    "    print(f\"i: {i, trials}\\ttarget_probability: {(1 - st.binom.cdf(99, trials, 0.1)).round(3)}\");    \n",
    "   \n",
    "print(f\"i: {13, 1161}\\ttarget_probability: {(1 - st.binom.cdf(99, 1161, 0.1)).round(3)}\")"
   ]
  },
  {
   "attachments": {
    "image.png": {
     "image/png": "[encoded data removed]"
    }
   },
   "cell_type": "markdown",
   "id": "48ae5034",
   "metadata": {},
   "source": [
    "  \n",
    "        \n",
    "![image.png](attachment:image.png)        "
   ]
  },
  {
   "cell_type": "markdown",
   "id": "f0c4e033",
   "metadata": {},
   "source": [
    "### check"
   ]
  },
  {
   "cell_type": "markdown",
   "id": "5e7198f1",
   "metadata": {},
   "source": [
    "Примеры особенности объединения, в т.ч. с параметрами по умолчанию при merge (для справки в join такая же «засада» по характеру, но другая по исполнению)\n",
    "        \n",
    "Использование параметров по умолчанию может привести к потере данных при объединении        \n",
    "     \n",
    "         "
   ]
  },
  {
   "cell_type": "code",
   "execution_count": 52,
   "id": "30a76e33",
   "metadata": {},
   "outputs": [],
   "source": [
    "dfg1 = pd.DataFrame(\n",
    "    {\n",
    "        \"A\": [\"A0\", \"A1\", \"A2\", \"A3\"],\n",
    "        \"B\": [\"B0\", \"B1\", \"B2\", \"B3\"],\n",
    "        \"C\": [\"C0\", \"C1\", \"C2\", \"C3\"],\n",
    "        \"D\": [\"D0\", \"D1\", \"D2\", \"D3\"],\n",
    "    },\n",
    "    index=[0, 1, 2, 3],\n",
    ")\n",
    "\n",
    "dfr4 = pd.DataFrame(\n",
    "    {\n",
    "        \"B\": [\"B2\", \"B3\", \"B6\", \"B7\"],\n",
    "        \"D\": [\"D2\", \"D3\", \"D6\", \"D7\"],\n",
    "        \"F\": [\"F2\", \"F3\", \"F6\", \"F7\"],\n",
    "        \"E\": [np.nan, np.nan, np.nan, np.nan]\n",
    "    },\n",
    "    index=[2, 3, 6, 0],\n",
    ")"
   ]
  },
  {
   "cell_type": "code",
   "execution_count": 53,
   "id": "4c5fc8e7",
   "metadata": {
    "scrolled": true
   },
   "outputs": [
    {
     "data": {
      "text/html": [
       "<div>\n",
       "<style scoped>\n",
       "    .dataframe tbody tr th:only-of-type {\n",
       "        vertical-align: middle;\n",
       "    }\n",
       "\n",
       "    .dataframe tbody tr th {\n",
       "        vertical-align: top;\n",
       "    }\n",
       "\n",
       "    .dataframe thead th {\n",
       "        text-align: right;\n",
       "    }\n",
       "</style>\n",
       "<table border=\"1\" class=\"dataframe\">\n",
       "  <thead>\n",
       "    <tr style=\"text-align: right;\">\n",
       "      <th></th>\n",
       "      <th>A</th>\n",
       "      <th>B</th>\n",
       "      <th>C</th>\n",
       "      <th>D</th>\n",
       "    </tr>\n",
       "  </thead>\n",
       "  <tbody>\n",
       "    <tr>\n",
       "      <th>0</th>\n",
       "      <td>A0</td>\n",
       "      <td>B0</td>\n",
       "      <td>C0</td>\n",
       "      <td>D0</td>\n",
       "    </tr>\n",
       "    <tr>\n",
       "      <th>1</th>\n",
       "      <td>A1</td>\n",
       "      <td>B1</td>\n",
       "      <td>C1</td>\n",
       "      <td>D1</td>\n",
       "    </tr>\n",
       "    <tr>\n",
       "      <th>2</th>\n",
       "      <td>A2</td>\n",
       "      <td>B2</td>\n",
       "      <td>C2</td>\n",
       "      <td>D2</td>\n",
       "    </tr>\n",
       "    <tr>\n",
       "      <th>3</th>\n",
       "      <td>A3</td>\n",
       "      <td>B3</td>\n",
       "      <td>C3</td>\n",
       "      <td>D3</td>\n",
       "    </tr>\n",
       "  </tbody>\n",
       "</table>\n",
       "</div>"
      ],
      "text/plain": [
       "    A   B   C   D\n",
       "0  A0  B0  C0  D0\n",
       "1  A1  B1  C1  D1\n",
       "2  A2  B2  C2  D2\n",
       "3  A3  B3  C3  D3"
      ]
     },
     "metadata": {},
     "output_type": "display_data"
    },
    {
     "data": {
      "text/html": [
       "<div>\n",
       "<style scoped>\n",
       "    .dataframe tbody tr th:only-of-type {\n",
       "        vertical-align: middle;\n",
       "    }\n",
       "\n",
       "    .dataframe tbody tr th {\n",
       "        vertical-align: top;\n",
       "    }\n",
       "\n",
       "    .dataframe thead th {\n",
       "        text-align: right;\n",
       "    }\n",
       "</style>\n",
       "<table border=\"1\" class=\"dataframe\">\n",
       "  <thead>\n",
       "    <tr style=\"text-align: right;\">\n",
       "      <th></th>\n",
       "      <th>B</th>\n",
       "      <th>D</th>\n",
       "      <th>F</th>\n",
       "      <th>E</th>\n",
       "    </tr>\n",
       "  </thead>\n",
       "  <tbody>\n",
       "    <tr>\n",
       "      <th>2</th>\n",
       "      <td>B2</td>\n",
       "      <td>D2</td>\n",
       "      <td>F2</td>\n",
       "      <td>NaN</td>\n",
       "    </tr>\n",
       "    <tr>\n",
       "      <th>3</th>\n",
       "      <td>B3</td>\n",
       "      <td>D3</td>\n",
       "      <td>F3</td>\n",
       "      <td>NaN</td>\n",
       "    </tr>\n",
       "    <tr>\n",
       "      <th>6</th>\n",
       "      <td>B6</td>\n",
       "      <td>D6</td>\n",
       "      <td>F6</td>\n",
       "      <td>NaN</td>\n",
       "    </tr>\n",
       "    <tr>\n",
       "      <th>0</th>\n",
       "      <td>B7</td>\n",
       "      <td>D7</td>\n",
       "      <td>F7</td>\n",
       "      <td>NaN</td>\n",
       "    </tr>\n",
       "  </tbody>\n",
       "</table>\n",
       "</div>"
      ],
      "text/plain": [
       "    B   D   F   E\n",
       "2  B2  D2  F2 NaN\n",
       "3  B3  D3  F3 NaN\n",
       "6  B6  D6  F6 NaN\n",
       "0  B7  D7  F7 NaN"
      ]
     },
     "metadata": {},
     "output_type": "display_data"
    }
   ],
   "source": [
    "display(dfg1, dfr4)"
   ]
  },
  {
   "cell_type": "code",
   "execution_count": 54,
   "id": "8df88c2c",
   "metadata": {},
   "outputs": [
    {
     "data": {
      "text/html": [
       "<div>\n",
       "<style scoped>\n",
       "    .dataframe tbody tr th:only-of-type {\n",
       "        vertical-align: middle;\n",
       "    }\n",
       "\n",
       "    .dataframe tbody tr th {\n",
       "        vertical-align: top;\n",
       "    }\n",
       "\n",
       "    .dataframe thead th {\n",
       "        text-align: right;\n",
       "    }\n",
       "</style>\n",
       "<table border=\"1\" class=\"dataframe\">\n",
       "  <thead>\n",
       "    <tr style=\"text-align: right;\">\n",
       "      <th></th>\n",
       "      <th>key_0</th>\n",
       "      <th>A</th>\n",
       "      <th>B_x</th>\n",
       "      <th>C</th>\n",
       "      <th>D_x</th>\n",
       "      <th>B_y</th>\n",
       "      <th>D_y</th>\n",
       "      <th>F</th>\n",
       "      <th>E</th>\n",
       "    </tr>\n",
       "  </thead>\n",
       "  <tbody>\n",
       "    <tr>\n",
       "      <th>0</th>\n",
       "      <td>0</td>\n",
       "      <td>A0</td>\n",
       "      <td>B0</td>\n",
       "      <td>C0</td>\n",
       "      <td>D0</td>\n",
       "      <td>B7</td>\n",
       "      <td>D7</td>\n",
       "      <td>F7</td>\n",
       "      <td>NaN</td>\n",
       "    </tr>\n",
       "    <tr>\n",
       "      <th>1</th>\n",
       "      <td>1</td>\n",
       "      <td>A1</td>\n",
       "      <td>B1</td>\n",
       "      <td>C1</td>\n",
       "      <td>D1</td>\n",
       "      <td>NaN</td>\n",
       "      <td>NaN</td>\n",
       "      <td>NaN</td>\n",
       "      <td>NaN</td>\n",
       "    </tr>\n",
       "    <tr>\n",
       "      <th>2</th>\n",
       "      <td>2</td>\n",
       "      <td>A2</td>\n",
       "      <td>B2</td>\n",
       "      <td>C2</td>\n",
       "      <td>D2</td>\n",
       "      <td>B2</td>\n",
       "      <td>D2</td>\n",
       "      <td>F2</td>\n",
       "      <td>NaN</td>\n",
       "    </tr>\n",
       "    <tr>\n",
       "      <th>3</th>\n",
       "      <td>3</td>\n",
       "      <td>A3</td>\n",
       "      <td>B3</td>\n",
       "      <td>C3</td>\n",
       "      <td>D3</td>\n",
       "      <td>B3</td>\n",
       "      <td>D3</td>\n",
       "      <td>F3</td>\n",
       "      <td>NaN</td>\n",
       "    </tr>\n",
       "    <tr>\n",
       "      <th>4</th>\n",
       "      <td>6</td>\n",
       "      <td>NaN</td>\n",
       "      <td>NaN</td>\n",
       "      <td>NaN</td>\n",
       "      <td>NaN</td>\n",
       "      <td>B6</td>\n",
       "      <td>D6</td>\n",
       "      <td>F6</td>\n",
       "      <td>NaN</td>\n",
       "    </tr>\n",
       "  </tbody>\n",
       "</table>\n",
       "</div>"
      ],
      "text/plain": [
       "   key_0    A  B_x    C  D_x  B_y  D_y    F   E\n",
       "0      0   A0   B0   C0   D0   B7   D7   F7 NaN\n",
       "1      1   A1   B1   C1   D1  NaN  NaN  NaN NaN\n",
       "2      2   A2   B2   C2   D2   B2   D2   F2 NaN\n",
       "3      3   A3   B3   C3   D3   B3   D3   F3 NaN\n",
       "4      6  NaN  NaN  NaN  NaN   B6   D6   F6 NaN"
      ]
     },
     "execution_count": 54,
     "metadata": {},
     "output_type": "execute_result"
    }
   ],
   "source": [
    "dfg1.merge(dfr4, left_on=dfg1.index, right_on=dfr4.index, how='outer')"
   ]
  },
  {
   "cell_type": "code",
   "execution_count": 55,
   "id": "feb2b5b9",
   "metadata": {
    "scrolled": true
   },
   "outputs": [
    {
     "data": {
      "text/html": [
       "<div>\n",
       "<style scoped>\n",
       "    .dataframe tbody tr th:only-of-type {\n",
       "        vertical-align: middle;\n",
       "    }\n",
       "\n",
       "    .dataframe tbody tr th {\n",
       "        vertical-align: top;\n",
       "    }\n",
       "\n",
       "    .dataframe thead th {\n",
       "        text-align: right;\n",
       "    }\n",
       "</style>\n",
       "<table border=\"1\" class=\"dataframe\">\n",
       "  <thead>\n",
       "    <tr style=\"text-align: right;\">\n",
       "      <th></th>\n",
       "      <th>A</th>\n",
       "      <th>B</th>\n",
       "      <th>C</th>\n",
       "      <th>D</th>\n",
       "      <th>F</th>\n",
       "      <th>E</th>\n",
       "    </tr>\n",
       "  </thead>\n",
       "  <tbody>\n",
       "    <tr>\n",
       "      <th>0</th>\n",
       "      <td>A0</td>\n",
       "      <td>B0</td>\n",
       "      <td>C0</td>\n",
       "      <td>D0</td>\n",
       "      <td>NaN</td>\n",
       "      <td>NaN</td>\n",
       "    </tr>\n",
       "    <tr>\n",
       "      <th>1</th>\n",
       "      <td>A1</td>\n",
       "      <td>B1</td>\n",
       "      <td>C1</td>\n",
       "      <td>D1</td>\n",
       "      <td>NaN</td>\n",
       "      <td>NaN</td>\n",
       "    </tr>\n",
       "    <tr>\n",
       "      <th>2</th>\n",
       "      <td>A2</td>\n",
       "      <td>B2</td>\n",
       "      <td>C2</td>\n",
       "      <td>D2</td>\n",
       "      <td>F2</td>\n",
       "      <td>NaN</td>\n",
       "    </tr>\n",
       "    <tr>\n",
       "      <th>3</th>\n",
       "      <td>A3</td>\n",
       "      <td>B3</td>\n",
       "      <td>C3</td>\n",
       "      <td>D3</td>\n",
       "      <td>F3</td>\n",
       "      <td>NaN</td>\n",
       "    </tr>\n",
       "    <tr>\n",
       "      <th>4</th>\n",
       "      <td>NaN</td>\n",
       "      <td>B6</td>\n",
       "      <td>NaN</td>\n",
       "      <td>D6</td>\n",
       "      <td>F6</td>\n",
       "      <td>NaN</td>\n",
       "    </tr>\n",
       "    <tr>\n",
       "      <th>5</th>\n",
       "      <td>NaN</td>\n",
       "      <td>B7</td>\n",
       "      <td>NaN</td>\n",
       "      <td>D7</td>\n",
       "      <td>F7</td>\n",
       "      <td>NaN</td>\n",
       "    </tr>\n",
       "  </tbody>\n",
       "</table>\n",
       "</div>"
      ],
      "text/plain": [
       "     A   B    C   D    F   E\n",
       "0   A0  B0   C0  D0  NaN NaN\n",
       "1   A1  B1   C1  D1  NaN NaN\n",
       "2   A2  B2   C2  D2   F2 NaN\n",
       "3   A3  B3   C3  D3   F3 NaN\n",
       "4  NaN  B6  NaN  D6   F6 NaN\n",
       "5  NaN  B7  NaN  D7   F7 NaN"
      ]
     },
     "execution_count": 55,
     "metadata": {},
     "output_type": "execute_result"
    }
   ],
   "source": [
    "dfg1.merge(dfr4, 'outer')"
   ]
  },
  {
   "cell_type": "code",
   "execution_count": 56,
   "id": "7bc512d9",
   "metadata": {},
   "outputs": [
    {
     "data": {
      "text/html": [
       "<div>\n",
       "<style scoped>\n",
       "    .dataframe tbody tr th:only-of-type {\n",
       "        vertical-align: middle;\n",
       "    }\n",
       "\n",
       "    .dataframe tbody tr th {\n",
       "        vertical-align: top;\n",
       "    }\n",
       "\n",
       "    .dataframe thead th {\n",
       "        text-align: right;\n",
       "    }\n",
       "</style>\n",
       "<table border=\"1\" class=\"dataframe\">\n",
       "  <thead>\n",
       "    <tr style=\"text-align: right;\">\n",
       "      <th></th>\n",
       "      <th>A</th>\n",
       "      <th>B</th>\n",
       "      <th>C</th>\n",
       "      <th>D</th>\n",
       "      <th>F</th>\n",
       "      <th>E</th>\n",
       "    </tr>\n",
       "  </thead>\n",
       "  <tbody>\n",
       "    <tr>\n",
       "      <th>0</th>\n",
       "      <td>A2</td>\n",
       "      <td>B2</td>\n",
       "      <td>C2</td>\n",
       "      <td>D2</td>\n",
       "      <td>F2</td>\n",
       "      <td>NaN</td>\n",
       "    </tr>\n",
       "    <tr>\n",
       "      <th>1</th>\n",
       "      <td>A3</td>\n",
       "      <td>B3</td>\n",
       "      <td>C3</td>\n",
       "      <td>D3</td>\n",
       "      <td>F3</td>\n",
       "      <td>NaN</td>\n",
       "    </tr>\n",
       "  </tbody>\n",
       "</table>\n",
       "</div>"
      ],
      "text/plain": [
       "    A   B   C   D   F   E\n",
       "0  A2  B2  C2  D2  F2 NaN\n",
       "1  A3  B3  C3  D3  F3 NaN"
      ]
     },
     "execution_count": 56,
     "metadata": {},
     "output_type": "execute_result"
    }
   ],
   "source": [
    "dfg1.merge(dfr4)"
   ]
  },
  {
   "cell_type": "code",
   "execution_count": 57,
   "id": "1a4ea819",
   "metadata": {},
   "outputs": [
    {
     "data": {
      "text/html": [
       "<div>\n",
       "<style scoped>\n",
       "    .dataframe tbody tr th:only-of-type {\n",
       "        vertical-align: middle;\n",
       "    }\n",
       "\n",
       "    .dataframe tbody tr th {\n",
       "        vertical-align: top;\n",
       "    }\n",
       "\n",
       "    .dataframe thead th {\n",
       "        text-align: right;\n",
       "    }\n",
       "</style>\n",
       "<table border=\"1\" class=\"dataframe\">\n",
       "  <thead>\n",
       "    <tr style=\"text-align: right;\">\n",
       "      <th></th>\n",
       "      <th>A</th>\n",
       "      <th>B</th>\n",
       "      <th>C</th>\n",
       "      <th>D</th>\n",
       "      <th>F</th>\n",
       "      <th>E</th>\n",
       "    </tr>\n",
       "  </thead>\n",
       "  <tbody>\n",
       "    <tr>\n",
       "      <th>0</th>\n",
       "      <td>A2</td>\n",
       "      <td>B2</td>\n",
       "      <td>C2</td>\n",
       "      <td>D2</td>\n",
       "      <td>F2</td>\n",
       "      <td>NaN</td>\n",
       "    </tr>\n",
       "    <tr>\n",
       "      <th>1</th>\n",
       "      <td>A3</td>\n",
       "      <td>B3</td>\n",
       "      <td>C3</td>\n",
       "      <td>D3</td>\n",
       "      <td>F3</td>\n",
       "      <td>NaN</td>\n",
       "    </tr>\n",
       "  </tbody>\n",
       "</table>\n",
       "</div>"
      ],
      "text/plain": [
       "    A   B   C   D   F   E\n",
       "0  A2  B2  C2  D2  F2 NaN\n",
       "1  A3  B3  C3  D3  F3 NaN"
      ]
     },
     "execution_count": 57,
     "metadata": {},
     "output_type": "execute_result"
    }
   ],
   "source": [
    "dfg1.merge(dfr4, 'inner')"
   ]
  },
  {
   "cell_type": "markdown",
   "id": "d4a4c1b2",
   "metadata": {},
   "source": [
    "####  check при объединении таблиц без пропусков получаем пропуски"
   ]
  },
  {
   "cell_type": "code",
   "execution_count": 58,
   "id": "a2c4cc27",
   "metadata": {},
   "outputs": [],
   "source": [
    "dfg1 = pd.DataFrame(\n",
    "    {\n",
    "        \"A\": [\"A0\", \"A1\", \"A2\", \"A3\"],\n",
    "        \"B\": [\"B0\", \"B1\", \"B2\", \"B3\"],\n",
    "        \"C\": [\"C0\", \"C1\", \"C2\", \"C3\"],\n",
    "        \"D\": [\"D0\", \"D1\", \"D2\", \"D3\"],\n",
    "    },\n",
    "    index=[0, 1, 2, 3],\n",
    ")\n",
    "\n",
    "dfr4 = pd.DataFrame(\n",
    "    {\n",
    "        \"B\": [\"B2\", \"B3\", \"B6\", \"B7\"],\n",
    "        \"D\": [\"D2\", \"D3\", \"D6\", \"D7\"],\n",
    "        \"F\": [\"F2\", \"F3\", \"F6\", \"F7\"],\n",
    "        \n",
    "        \n",
    "    },\n",
    "    index=[2, 3, 6, 0],\n",
    ")"
   ]
  },
  {
   "cell_type": "code",
   "execution_count": 59,
   "id": "9b83e15c",
   "metadata": {},
   "outputs": [
    {
     "data": {
      "text/html": [
       "<div>\n",
       "<style scoped>\n",
       "    .dataframe tbody tr th:only-of-type {\n",
       "        vertical-align: middle;\n",
       "    }\n",
       "\n",
       "    .dataframe tbody tr th {\n",
       "        vertical-align: top;\n",
       "    }\n",
       "\n",
       "    .dataframe thead th {\n",
       "        text-align: right;\n",
       "    }\n",
       "</style>\n",
       "<table border=\"1\" class=\"dataframe\">\n",
       "  <thead>\n",
       "    <tr style=\"text-align: right;\">\n",
       "      <th></th>\n",
       "      <th>A</th>\n",
       "      <th>B</th>\n",
       "      <th>C</th>\n",
       "      <th>D</th>\n",
       "      <th>F</th>\n",
       "    </tr>\n",
       "  </thead>\n",
       "  <tbody>\n",
       "    <tr>\n",
       "      <th>0</th>\n",
       "      <td>A0</td>\n",
       "      <td>B0</td>\n",
       "      <td>C0</td>\n",
       "      <td>D0</td>\n",
       "      <td>NaN</td>\n",
       "    </tr>\n",
       "    <tr>\n",
       "      <th>1</th>\n",
       "      <td>A1</td>\n",
       "      <td>B1</td>\n",
       "      <td>C1</td>\n",
       "      <td>D1</td>\n",
       "      <td>NaN</td>\n",
       "    </tr>\n",
       "    <tr>\n",
       "      <th>2</th>\n",
       "      <td>A2</td>\n",
       "      <td>B2</td>\n",
       "      <td>C2</td>\n",
       "      <td>D2</td>\n",
       "      <td>F2</td>\n",
       "    </tr>\n",
       "    <tr>\n",
       "      <th>3</th>\n",
       "      <td>A3</td>\n",
       "      <td>B3</td>\n",
       "      <td>C3</td>\n",
       "      <td>D3</td>\n",
       "      <td>F3</td>\n",
       "    </tr>\n",
       "    <tr>\n",
       "      <th>4</th>\n",
       "      <td>NaN</td>\n",
       "      <td>B6</td>\n",
       "      <td>NaN</td>\n",
       "      <td>D6</td>\n",
       "      <td>F6</td>\n",
       "    </tr>\n",
       "    <tr>\n",
       "      <th>5</th>\n",
       "      <td>NaN</td>\n",
       "      <td>B7</td>\n",
       "      <td>NaN</td>\n",
       "      <td>D7</td>\n",
       "      <td>F7</td>\n",
       "    </tr>\n",
       "  </tbody>\n",
       "</table>\n",
       "</div>"
      ],
      "text/plain": [
       "     A   B    C   D    F\n",
       "0   A0  B0   C0  D0  NaN\n",
       "1   A1  B1   C1  D1  NaN\n",
       "2   A2  B2   C2  D2   F2\n",
       "3   A3  B3   C3  D3   F3\n",
       "4  NaN  B6  NaN  D6   F6\n",
       "5  NaN  B7  NaN  D7   F7"
      ]
     },
     "execution_count": 59,
     "metadata": {},
     "output_type": "execute_result"
    }
   ],
   "source": [
    "dfg1.merge(dfr4, how='outer')"
   ]
  },
  {
   "cell_type": "markdown",
   "id": "20aaaf96",
   "metadata": {},
   "source": [
    "### check"
   ]
  },
  {
   "cell_type": "markdown",
   "id": "cd9a009f",
   "metadata": {},
   "source": [
    "Пример Закона больших чисел в действии (обратном), удалим 20 процентов (больше общепринятых 10%) всех данных из таблицы, где мы рассчитали выручку"
   ]
  },
  {
   "cell_type": "code",
   "execution_count": 60,
   "id": "8fab671d",
   "metadata": {},
   "outputs": [
    {
     "data": {
      "text/plain": [
       "Index(['distance', 'duration', 'amount', 'subscription_type', 'minute_price',\n",
       "       'start_ride_price', 'subscription_fee', 'payment'],\n",
       "      dtype='object')"
      ]
     },
     "execution_count": 60,
     "metadata": {},
     "output_type": "execute_result"
    }
   ],
   "source": [
    "dfg_first = data_grouped.copy()\n",
    "dfg_first.columns"
   ]
  },
  {
   "cell_type": "code",
   "execution_count": 61,
   "id": "d66f1c3e",
   "metadata": {},
   "outputs": [
    {
     "data": {
      "text/plain": [
       "'payment'"
      ]
     },
     "execution_count": 61,
     "metadata": {},
     "output_type": "execute_result"
    }
   ],
   "source": [
    "x = 'subscription_type'\n",
    "y = dfg_first.columns[-1]\n",
    "y"
   ]
  },
  {
   "cell_type": "code",
   "execution_count": 62,
   "id": "f76b7ac3",
   "metadata": {},
   "outputs": [
    {
     "data": {
      "text/html": [
       "<div>\n",
       "<style scoped>\n",
       "    .dataframe tbody tr th:only-of-type {\n",
       "        vertical-align: middle;\n",
       "    }\n",
       "\n",
       "    .dataframe tbody tr th {\n",
       "        vertical-align: top;\n",
       "    }\n",
       "\n",
       "    .dataframe thead th {\n",
       "        text-align: right;\n",
       "    }\n",
       "</style>\n",
       "<table border=\"1\" class=\"dataframe\">\n",
       "  <thead>\n",
       "    <tr style=\"text-align: right;\">\n",
       "      <th></th>\n",
       "      <th>payment</th>\n",
       "    </tr>\n",
       "    <tr>\n",
       "      <th>subscription_type</th>\n",
       "      <th></th>\n",
       "    </tr>\n",
       "  </thead>\n",
       "  <tbody>\n",
       "    <tr>\n",
       "      <th>free</th>\n",
       "      <td>328.6</td>\n",
       "    </tr>\n",
       "    <tr>\n",
       "      <th>ultra</th>\n",
       "      <td>362.8</td>\n",
       "    </tr>\n",
       "  </tbody>\n",
       "</table>\n",
       "</div>"
      ],
      "text/plain": [
       "                   payment\n",
       "subscription_type         \n",
       "free                 328.6\n",
       "ultra                362.8"
      ]
     },
     "execution_count": 62,
     "metadata": {},
     "output_type": "execute_result"
    }
   ],
   "source": [
    "dfg_first.groupby(x)[y].mean().round(1).to_frame()"
   ]
  },
  {
   "cell_type": "code",
   "execution_count": 63,
   "id": "677b997b",
   "metadata": {},
   "outputs": [
    {
     "data": {
      "image/png": "[encoded data removed]",
      "text/plain": [
       "<Figure size 1080x216 with 1 Axes>"
      ]
     },
     "metadata": {
      "needs_background": "light"
     },
     "output_type": "display_data"
    }
   ],
   "source": [
    "dfg_first.groupby(x)[y].hist(bins=200, figsize=(15,3), legend=True)\n",
    "plt.title('Гистограммы ежесячной выручки двух групп пользователей')\n",
    "plt.xlabel('руб.')\n",
    "plt.ylabel('кол-во');"
   ]
  },
  {
   "cell_type": "code",
   "execution_count": 64,
   "id": "bccb646f",
   "metadata": {},
   "outputs": [],
   "source": [
    "# копируем таблицу\n",
    "dfg = dfg_first.copy()\n"
   ]
  },
  {
   "cell_type": "code",
   "execution_count": 65,
   "id": "34540f9a",
   "metadata": {},
   "outputs": [
    {
     "name": "stdout",
     "output_type": "stream",
     "text": [
      "<class 'pandas.core.frame.DataFrame'>\n",
      "MultiIndex: 11331 entries, (1, 1, 6, 0, 199) to (1534, 12, 8, 50, 0)\n",
      "Data columns (total 8 columns):\n",
      " #   Column             Non-Null Count  Dtype  \n",
      "---  ------             --------------  -----  \n",
      " 0   distance           11331 non-null  float64\n",
      " 1   duration           11331 non-null  float64\n",
      " 2   amount             11331 non-null  int64  \n",
      " 3   subscription_type  11331 non-null  object \n",
      " 4   minute_price       11331 non-null  int64  \n",
      " 5   start_ride_price   11331 non-null  int64  \n",
      " 6   subscription_fee   11331 non-null  int64  \n",
      " 7   payment            11331 non-null  float64\n",
      "dtypes: float64(3), int64(4), object(1)\n",
      "memory usage: 787.0+ KB\n"
     ]
    }
   ],
   "source": [
    "dfg.info()"
   ]
  },
  {
   "cell_type": "code",
   "execution_count": 66,
   "id": "25107da1",
   "metadata": {},
   "outputs": [],
   "source": [
    "# удаляем данные, 20%\n",
    "for col in dfg.columns:\n",
    "    dfg.loc[dfg.sample(frac=0.2).index, col] = np.nan"
   ]
  },
  {
   "cell_type": "code",
   "execution_count": 67,
   "id": "ac0c307b",
   "metadata": {},
   "outputs": [
    {
     "name": "stdout",
     "output_type": "stream",
     "text": [
      "<class 'pandas.core.frame.DataFrame'>\n",
      "MultiIndex: 11331 entries, (1, 1, 6, 0, 199) to (1534, 12, 8, 50, 0)\n",
      "Data columns (total 8 columns):\n",
      " #   Column             Non-Null Count  Dtype  \n",
      "---  ------             --------------  -----  \n",
      " 0   distance           9065 non-null   float64\n",
      " 1   duration           9065 non-null   float64\n",
      " 2   amount             9065 non-null   float64\n",
      " 3   subscription_type  9065 non-null   object \n",
      " 4   minute_price       9065 non-null   float64\n",
      " 5   start_ride_price   9065 non-null   float64\n",
      " 6   subscription_fee   9065 non-null   float64\n",
      " 7   payment            9065 non-null   float64\n",
      "dtypes: float64(7), object(1)\n",
      "memory usage: 1.1+ MB\n"
     ]
    }
   ],
   "source": [
    "dfg.info()"
   ]
  },
  {
   "cell_type": "code",
   "execution_count": 68,
   "id": "bcd86bc7",
   "metadata": {},
   "outputs": [
    {
     "data": {
      "text/html": [
       "<div>\n",
       "<style scoped>\n",
       "    .dataframe tbody tr th:only-of-type {\n",
       "        vertical-align: middle;\n",
       "    }\n",
       "\n",
       "    .dataframe tbody tr th {\n",
       "        vertical-align: top;\n",
       "    }\n",
       "\n",
       "    .dataframe thead th {\n",
       "        text-align: right;\n",
       "    }\n",
       "</style>\n",
       "<table border=\"1\" class=\"dataframe\">\n",
       "  <thead>\n",
       "    <tr style=\"text-align: right;\">\n",
       "      <th></th>\n",
       "      <th>payment</th>\n",
       "    </tr>\n",
       "    <tr>\n",
       "      <th>subscription_type</th>\n",
       "      <th></th>\n",
       "    </tr>\n",
       "  </thead>\n",
       "  <tbody>\n",
       "    <tr>\n",
       "      <th>free</th>\n",
       "      <td>329.6</td>\n",
       "    </tr>\n",
       "    <tr>\n",
       "      <th>ultra</th>\n",
       "      <td>362.2</td>\n",
       "    </tr>\n",
       "  </tbody>\n",
       "</table>\n",
       "</div>"
      ],
      "text/plain": [
       "                   payment\n",
       "subscription_type         \n",
       "free                 329.6\n",
       "ultra                362.2"
      ]
     },
     "execution_count": 68,
     "metadata": {},
     "output_type": "execute_result"
    }
   ],
   "source": [
    "dfg.groupby(x)[y].mean().round(1).to_frame()"
   ]
  },
  {
   "cell_type": "code",
   "execution_count": 69,
   "id": "d3266cbb",
   "metadata": {},
   "outputs": [
    {
     "data": {
      "image/png": "[encoded data removed]",
      "text/plain": [
       "<Figure size 1080x216 with 1 Axes>"
      ]
     },
     "metadata": {
      "needs_background": "light"
     },
     "output_type": "display_data"
    }
   ],
   "source": [
    "dfg.groupby(x)[y].hist(bins=200, figsize=(15,3), legend=True)\n",
    "plt.title('Гистограммы ежесячной выручки двух групп пользователей')\n",
    "plt.xlabel('руб.')\n",
    "plt.ylabel('кол-во');"
   ]
  },
  {
   "attachments": {},
   "cell_type": "markdown",
   "id": "20faf7b5",
   "metadata": {},
   "source": [
    "Если сравнить средние значения выручки, даже после удаления 20-ти процентов данных (но одно важное условие — данные удалялись случайным образом), они изменились незначительно, как и характер распределения самих данных (кол-во данных уменьшилось, безусловно).\n",
    "        \n",
    "Для сравнения представлен рисунок первой гистограммы\n",
    "        \n",
    "Закон больших чисел действует и в обратном направлении — у нас нет необходимости собирать 100% данных, чтобы проверить основные гипотезы, при условии, что выборка достаточно большая              \n",
    "         "
   ]
  },
  {
   "cell_type": "markdown",
   "id": "d62f6e85",
   "metadata": {},
   "source": [
    "### check"
   ]
  },
  {
   "cell_type": "markdown",
   "id": "c14cfc6f",
   "metadata": {},
   "source": [
    "Приведу пример и теорию для понимания формулировок и интерпретации итогов проведения гипотез</b>\n",
    "        \n",
    "      \n",
    "Задача. Приведены два датасета: сумма покупок, совершённых за месяц посетителями, привлечёнными по двум разным каналам. В вашем распоряжении случайная выборка из 30 покупок для каждого канала.\n",
    "        \n",
    "H0 - средние чеки равны\n",
    "        \n",
    "        \n",
    "H1 - средние чеки НЕ равны\n",
    "\n",
    "Да сама формулировка нулевой и альтернативной гипотезы звучит именно так, но результат теста интерпретируется другими словами\n",
    "    \n",
    "        \n",
    "Формулирование двусторонних гипотез. <br>\n",
    "        \n",
    "<b>Никакие экспериментально полученные данные никогда не подтвердят какую-либо гипотезу. Это наше фундаментальное ограничение. </b>Данные могут лишь не противоречить ей или, наоборот, показывать крайне маловероятные результаты (при условии, что гипотеза верна). Но и в том, и в другом случае нет оснований утверждать, что выдвинутая гипотеза доказана.\n",
    "Допустим, данные гипотезе не противоречат, тогда мы её не отвергаем. Если же мы приходим к выводу, что получить такие данные в рамках этой гипотезы вряд ли возможно, у нас появляется основание отбросить эту гипотезу.\n",
    "     "
   ]
  },
  {
   "cell_type": "code",
   "execution_count": 70,
   "id": "a3d229c4",
   "metadata": {},
   "outputs": [
    {
     "name": "stdout",
     "output_type": "stream",
     "text": [
      "p-значение: 0.1912450522572209\n",
      "Не получилось отвергнуть нулевую гипотезу\n"
     ]
    }
   ],
   "source": [
    "# Приведены два датасета: сумма покупок, совершённых за месяц посетителями ...\n",
    "\n",
    "sample_1 = [3071, 3636, 3454, 3151, 2185, 3259, 1727, 2263, 2015,\n",
    "2582, 4815, 633, 3186, 887, 2028, 3589, 2564, 1422, 1785,\n",
    "3180, 1770, 2716, 2546, 1848, 4644, 3134, 475, 2686,\n",
    "1838, 3352]\n",
    "sample_2 = [1211, 1228, 2157, 3699, 600, 1898, 1688, 1420, 5048, 3007,\n",
    "509, 3777, 5583, 3949, 121, 1674, 4300, 1338, 3066,\n",
    "3562, 1010, 2311, 462, 863, 2021, 528, 1849, 255,\n",
    "1740, 2596]\n",
    "alpha = .05 # критический уровень статистической значимости\n",
    "# если p-value окажется меньше него - отвергнем гипотезу\n",
    "results = st.ttest_ind(\n",
    "sample_1,\n",
    "sample_2)\n",
    "print('p-значение:', results.pvalue)\n",
    "if (results.pvalue < alpha):\n",
    "    print(\"Отвергаем нулевую гипотезу\")\n",
    "else:\n",
    "    print(\"Не получилось отвергнуть нулевую гипотезу\")"
   ]
  },
  {
   "cell_type": "markdown",
   "id": "cfd81a13",
   "metadata": {},
   "source": [
    "**Интерпретация результата:**\n",
    "\n",
    "Полученное значение p-value говорит о том, что хотя средний чек пришедших из разных каналов и неодинаков, <b>с вероятностью в почти 19% такое или большее различие можно получить случайно. </b>Это явно слишком большая вероятность, чтобы делать вывод о значимом различии между средними чеками.\n",
    "        \n",
    "А если p-value  будет равно 0,9999, то это значит, что с вероятностью почти 100% <u>такое различие</u> можно получить случайно — то есть почти никогда :)  (но учитываем, что тест проводится на выборке из генеральной совокупности, все может поменяться)\n"
   ]
  }
 ],
 "metadata": {
  "ExecuteTimeLog": [
   {
    "duration": 1473,
    "start_time": "2024-11-17T18:37:44.012Z"
   },
   {
    "duration": 0,
    "start_time": "2024-11-17T18:37:45.489Z"
   },
   {
    "duration": 0,
    "start_time": "2024-11-17T18:37:45.490Z"
   },
   {
    "duration": 1,
    "start_time": "2024-11-17T18:37:45.490Z"
   },
   {
    "duration": 0,
    "start_time": "2024-11-17T18:37:45.492Z"
   },
   {
    "duration": 0,
    "start_time": "2024-11-17T18:37:45.492Z"
   },
   {
    "duration": 0,
    "start_time": "2024-11-17T18:37:45.493Z"
   },
   {
    "duration": 0,
    "start_time": "2024-11-17T18:37:45.494Z"
   },
   {
    "duration": 0,
    "start_time": "2024-11-17T18:37:45.495Z"
   },
   {
    "duration": 0,
    "start_time": "2024-11-17T18:37:45.496Z"
   },
   {
    "duration": 0,
    "start_time": "2024-11-17T18:37:45.497Z"
   },
   {
    "duration": 0,
    "start_time": "2024-11-17T18:37:45.498Z"
   },
   {
    "duration": 0,
    "start_time": "2024-11-17T18:37:45.498Z"
   },
   {
    "duration": 0,
    "start_time": "2024-11-17T18:37:45.500Z"
   },
   {
    "duration": 0,
    "start_time": "2024-11-17T18:37:45.500Z"
   },
   {
    "duration": 0,
    "start_time": "2024-11-17T18:37:45.501Z"
   },
   {
    "duration": 0,
    "start_time": "2024-11-17T18:37:45.502Z"
   },
   {
    "duration": 0,
    "start_time": "2024-11-17T18:37:45.503Z"
   },
   {
    "duration": 0,
    "start_time": "2024-11-17T18:37:45.504Z"
   },
   {
    "duration": 0,
    "start_time": "2024-11-17T18:37:45.505Z"
   },
   {
    "duration": 0,
    "start_time": "2024-11-17T18:37:45.505Z"
   },
   {
    "duration": 0,
    "start_time": "2024-11-17T18:37:45.506Z"
   },
   {
    "duration": 0,
    "start_time": "2024-11-17T18:37:45.507Z"
   },
   {
    "duration": 0,
    "start_time": "2024-11-17T18:37:45.508Z"
   },
   {
    "duration": 0,
    "start_time": "2024-11-17T18:37:45.509Z"
   },
   {
    "duration": 0,
    "start_time": "2024-11-17T18:37:45.510Z"
   },
   {
    "duration": 0,
    "start_time": "2024-11-17T18:37:45.511Z"
   },
   {
    "duration": 0,
    "start_time": "2024-11-17T18:37:45.511Z"
   },
   {
    "duration": 0,
    "start_time": "2024-11-17T18:37:45.512Z"
   },
   {
    "duration": 0,
    "start_time": "2024-11-17T18:37:45.513Z"
   },
   {
    "duration": 0,
    "start_time": "2024-11-17T18:37:45.514Z"
   },
   {
    "duration": 0,
    "start_time": "2024-11-17T18:37:45.515Z"
   },
   {
    "duration": 0,
    "start_time": "2024-11-17T18:37:45.516Z"
   },
   {
    "duration": 0,
    "start_time": "2024-11-17T18:37:45.517Z"
   },
   {
    "duration": 1492,
    "start_time": "2024-11-17T19:14:29.643Z"
   },
   {
    "duration": 14,
    "start_time": "2024-11-17T19:14:31.137Z"
   },
   {
    "duration": 16,
    "start_time": "2024-11-17T19:14:31.152Z"
   },
   {
    "duration": 306,
    "start_time": "2024-11-17T19:14:31.170Z"
   },
   {
    "duration": 9,
    "start_time": "2024-11-17T19:14:31.479Z"
   },
   {
    "duration": 23,
    "start_time": "2024-11-17T19:14:31.489Z"
   },
   {
    "duration": 402,
    "start_time": "2024-11-17T19:14:31.514Z"
   },
   {
    "duration": 7,
    "start_time": "2024-11-17T19:14:31.917Z"
   },
   {
    "duration": 94,
    "start_time": "2024-11-17T19:14:31.926Z"
   },
   {
    "duration": 27,
    "start_time": "2024-11-17T19:14:32.022Z"
   },
   {
    "duration": 9,
    "start_time": "2024-11-17T19:14:32.051Z"
   },
   {
    "duration": 14,
    "start_time": "2024-11-17T19:14:32.061Z"
   },
   {
    "duration": 20,
    "start_time": "2024-11-17T19:14:32.076Z"
   },
   {
    "duration": 6,
    "start_time": "2024-11-17T19:14:32.099Z"
   },
   {
    "duration": 27,
    "start_time": "2024-11-17T19:14:32.106Z"
   },
   {
    "duration": 170,
    "start_time": "2024-11-17T19:14:32.135Z"
   },
   {
    "duration": 97,
    "start_time": "2024-11-17T19:14:32.307Z"
   },
   {
    "duration": 5,
    "start_time": "2024-11-17T19:14:32.406Z"
   },
   {
    "duration": 263,
    "start_time": "2024-11-17T19:14:32.412Z"
   },
   {
    "duration": 9,
    "start_time": "2024-11-17T19:14:32.676Z"
   },
   {
    "duration": 343,
    "start_time": "2024-11-17T19:14:32.686Z"
   },
   {
    "duration": 12,
    "start_time": "2024-11-17T19:14:33.031Z"
   },
   {
    "duration": 244,
    "start_time": "2024-11-17T19:14:33.045Z"
   },
   {
    "duration": 31,
    "start_time": "2024-11-17T19:14:33.290Z"
   },
   {
    "duration": 40,
    "start_time": "2024-11-17T19:14:33.324Z"
   },
   {
    "duration": 23,
    "start_time": "2024-11-17T19:14:33.367Z"
   },
   {
    "duration": 277,
    "start_time": "2024-11-17T19:14:33.392Z"
   },
   {
    "duration": 249,
    "start_time": "2024-11-17T19:14:33.671Z"
   },
   {
    "duration": 855,
    "start_time": "2024-11-17T19:14:33.922Z"
   },
   {
    "duration": 147,
    "start_time": "2024-11-17T19:14:34.779Z"
   },
   {
    "duration": 28,
    "start_time": "2024-11-17T19:14:34.928Z"
   },
   {
    "duration": 11,
    "start_time": "2024-11-17T19:14:34.959Z"
   },
   {
    "duration": 17,
    "start_time": "2024-11-17T19:14:34.972Z"
   },
   {
    "duration": 15,
    "start_time": "2024-11-17T19:14:34.991Z"
   },
   {
    "duration": 6,
    "start_time": "2024-11-17T19:26:42.742Z"
   },
   {
    "duration": 1476,
    "start_time": "2024-11-17T19:31:19.581Z"
   },
   {
    "duration": 14,
    "start_time": "2024-11-17T19:31:21.059Z"
   },
   {
    "duration": 17,
    "start_time": "2024-11-17T19:31:21.075Z"
   },
   {
    "duration": 301,
    "start_time": "2024-11-17T19:31:21.094Z"
   },
   {
    "duration": 9,
    "start_time": "2024-11-17T19:31:21.397Z"
   },
   {
    "duration": 13,
    "start_time": "2024-11-17T19:31:21.408Z"
   },
   {
    "duration": 402,
    "start_time": "2024-11-17T19:31:21.423Z"
   },
   {
    "duration": 8,
    "start_time": "2024-11-17T19:31:21.826Z"
   },
   {
    "duration": 19,
    "start_time": "2024-11-17T19:31:21.835Z"
   },
   {
    "duration": 11,
    "start_time": "2024-11-17T19:31:21.856Z"
   },
   {
    "duration": 5,
    "start_time": "2024-11-17T19:31:21.868Z"
   },
   {
    "duration": 10,
    "start_time": "2024-11-17T19:31:21.875Z"
   },
   {
    "duration": 5,
    "start_time": "2024-11-17T19:31:21.887Z"
   },
   {
    "duration": 5,
    "start_time": "2024-11-17T19:31:21.895Z"
   },
   {
    "duration": 7,
    "start_time": "2024-11-17T19:31:21.901Z"
   },
   {
    "duration": 157,
    "start_time": "2024-11-17T19:31:21.943Z"
   },
   {
    "duration": 115,
    "start_time": "2024-11-17T19:31:22.101Z"
   },
   {
    "duration": 6,
    "start_time": "2024-11-17T19:31:22.218Z"
   },
   {
    "duration": 266,
    "start_time": "2024-11-17T19:31:22.225Z"
   },
   {
    "duration": 10,
    "start_time": "2024-11-17T19:31:22.492Z"
   },
   {
    "duration": 330,
    "start_time": "2024-11-17T19:31:22.504Z"
   },
   {
    "duration": 16,
    "start_time": "2024-11-17T19:31:22.836Z"
   },
   {
    "duration": 242,
    "start_time": "2024-11-17T19:31:22.855Z"
   },
   {
    "duration": 46,
    "start_time": "2024-11-17T19:31:23.098Z"
   },
   {
    "duration": 27,
    "start_time": "2024-11-17T19:31:23.146Z"
   },
   {
    "duration": 24,
    "start_time": "2024-11-17T19:31:23.175Z"
   },
   {
    "duration": 262,
    "start_time": "2024-11-17T19:31:23.201Z"
   },
   {
    "duration": 243,
    "start_time": "2024-11-17T19:31:23.464Z"
   },
   {
    "duration": 827,
    "start_time": "2024-11-17T19:31:23.709Z"
   },
   {
    "duration": 158,
    "start_time": "2024-11-17T19:31:24.537Z"
   },
   {
    "duration": 19,
    "start_time": "2024-11-17T19:31:24.696Z"
   },
   {
    "duration": 77,
    "start_time": "2024-11-17T19:31:24.716Z"
   },
   {
    "duration": 6,
    "start_time": "2024-11-17T19:31:24.795Z"
   },
   {
    "duration": 6,
    "start_time": "2024-11-17T19:31:24.802Z"
   },
   {
    "duration": 12,
    "start_time": "2024-11-17T19:31:24.810Z"
   },
   {
    "duration": 1274,
    "start_time": "2024-11-17T19:34:02.984Z"
   },
   {
    "duration": 0,
    "start_time": "2024-11-17T19:34:04.261Z"
   },
   {
    "duration": 0,
    "start_time": "2024-11-17T19:34:04.262Z"
   },
   {
    "duration": 0,
    "start_time": "2024-11-17T19:34:04.263Z"
   },
   {
    "duration": 0,
    "start_time": "2024-11-17T19:34:04.264Z"
   },
   {
    "duration": 0,
    "start_time": "2024-11-17T19:34:04.265Z"
   },
   {
    "duration": 0,
    "start_time": "2024-11-17T19:34:04.266Z"
   },
   {
    "duration": 0,
    "start_time": "2024-11-17T19:34:04.267Z"
   },
   {
    "duration": 0,
    "start_time": "2024-11-17T19:34:04.268Z"
   },
   {
    "duration": 0,
    "start_time": "2024-11-17T19:34:04.269Z"
   },
   {
    "duration": 0,
    "start_time": "2024-11-17T19:34:04.270Z"
   },
   {
    "duration": 0,
    "start_time": "2024-11-17T19:34:04.271Z"
   },
   {
    "duration": 0,
    "start_time": "2024-11-17T19:34:04.272Z"
   },
   {
    "duration": 0,
    "start_time": "2024-11-17T19:34:04.273Z"
   },
   {
    "duration": 0,
    "start_time": "2024-11-17T19:34:04.274Z"
   },
   {
    "duration": 0,
    "start_time": "2024-11-17T19:34:04.275Z"
   },
   {
    "duration": 0,
    "start_time": "2024-11-17T19:34:04.276Z"
   },
   {
    "duration": 0,
    "start_time": "2024-11-17T19:34:04.277Z"
   },
   {
    "duration": 0,
    "start_time": "2024-11-17T19:34:04.278Z"
   },
   {
    "duration": 0,
    "start_time": "2024-11-17T19:34:04.279Z"
   },
   {
    "duration": 0,
    "start_time": "2024-11-17T19:34:04.279Z"
   },
   {
    "duration": 0,
    "start_time": "2024-11-17T19:34:04.280Z"
   },
   {
    "duration": 0,
    "start_time": "2024-11-17T19:34:04.281Z"
   },
   {
    "duration": 0,
    "start_time": "2024-11-17T19:34:04.282Z"
   },
   {
    "duration": 0,
    "start_time": "2024-11-17T19:34:04.283Z"
   },
   {
    "duration": 0,
    "start_time": "2024-11-17T19:34:04.284Z"
   },
   {
    "duration": 0,
    "start_time": "2024-11-17T19:34:04.285Z"
   },
   {
    "duration": 0,
    "start_time": "2024-11-17T19:34:04.286Z"
   },
   {
    "duration": 0,
    "start_time": "2024-11-17T19:34:04.287Z"
   },
   {
    "duration": 0,
    "start_time": "2024-11-17T19:34:04.288Z"
   },
   {
    "duration": 0,
    "start_time": "2024-11-17T19:34:04.289Z"
   },
   {
    "duration": 0,
    "start_time": "2024-11-17T19:34:04.290Z"
   },
   {
    "duration": 0,
    "start_time": "2024-11-17T19:34:04.291Z"
   },
   {
    "duration": 0,
    "start_time": "2024-11-17T19:34:04.292Z"
   },
   {
    "duration": 0,
    "start_time": "2024-11-17T19:34:04.293Z"
   },
   {
    "duration": 1439,
    "start_time": "2024-11-19T10:58:48.226Z"
   },
   {
    "duration": 74,
    "start_time": "2024-11-19T10:58:49.667Z"
   },
   {
    "duration": 151,
    "start_time": "2024-11-19T10:58:49.742Z"
   },
   {
    "duration": 66,
    "start_time": "2024-11-19T10:58:49.895Z"
   },
   {
    "duration": 388,
    "start_time": "2024-11-19T10:58:49.963Z"
   },
   {
    "duration": 377,
    "start_time": "2024-11-19T10:58:50.352Z"
   },
   {
    "duration": 12,
    "start_time": "2024-11-19T10:58:50.730Z"
   },
   {
    "duration": 24,
    "start_time": "2024-11-19T10:58:50.744Z"
   },
   {
    "duration": 12,
    "start_time": "2024-11-19T10:58:50.770Z"
   },
   {
    "duration": 14,
    "start_time": "2024-11-19T10:58:50.785Z"
   },
   {
    "duration": 13,
    "start_time": "2024-11-19T10:58:50.801Z"
   },
   {
    "duration": 22,
    "start_time": "2024-11-19T10:58:50.816Z"
   },
   {
    "duration": 25,
    "start_time": "2024-11-19T10:58:50.840Z"
   },
   {
    "duration": 6,
    "start_time": "2024-11-19T10:58:50.868Z"
   },
   {
    "duration": 9,
    "start_time": "2024-11-19T10:58:50.875Z"
   },
   {
    "duration": 241,
    "start_time": "2024-11-19T10:58:50.886Z"
   },
   {
    "duration": 0,
    "start_time": "2024-11-19T10:58:51.130Z"
   },
   {
    "duration": 0,
    "start_time": "2024-11-19T10:58:51.132Z"
   },
   {
    "duration": 0,
    "start_time": "2024-11-19T10:58:51.134Z"
   },
   {
    "duration": 0,
    "start_time": "2024-11-19T10:58:51.135Z"
   },
   {
    "duration": 0,
    "start_time": "2024-11-19T10:58:51.137Z"
   },
   {
    "duration": 0,
    "start_time": "2024-11-19T10:58:51.138Z"
   },
   {
    "duration": 0,
    "start_time": "2024-11-19T10:58:51.140Z"
   },
   {
    "duration": 0,
    "start_time": "2024-11-19T10:58:51.141Z"
   },
   {
    "duration": 0,
    "start_time": "2024-11-19T10:58:51.143Z"
   },
   {
    "duration": 0,
    "start_time": "2024-11-19T10:58:51.144Z"
   },
   {
    "duration": 0,
    "start_time": "2024-11-19T10:58:51.145Z"
   },
   {
    "duration": 0,
    "start_time": "2024-11-19T10:58:51.147Z"
   },
   {
    "duration": 0,
    "start_time": "2024-11-19T10:58:51.148Z"
   },
   {
    "duration": 0,
    "start_time": "2024-11-19T10:58:51.151Z"
   },
   {
    "duration": 0,
    "start_time": "2024-11-19T10:58:51.152Z"
   },
   {
    "duration": 0,
    "start_time": "2024-11-19T10:58:51.155Z"
   },
   {
    "duration": 0,
    "start_time": "2024-11-19T10:58:51.200Z"
   },
   {
    "duration": 0,
    "start_time": "2024-11-19T10:58:51.201Z"
   },
   {
    "duration": 0,
    "start_time": "2024-11-19T10:58:51.204Z"
   },
   {
    "duration": 0,
    "start_time": "2024-11-19T10:58:51.205Z"
   },
   {
    "duration": 0,
    "start_time": "2024-11-19T10:58:51.206Z"
   },
   {
    "duration": 0,
    "start_time": "2024-11-19T10:58:51.207Z"
   },
   {
    "duration": 0,
    "start_time": "2024-11-19T10:58:51.208Z"
   },
   {
    "duration": 0,
    "start_time": "2024-11-19T10:58:51.210Z"
   },
   {
    "duration": 0,
    "start_time": "2024-11-19T10:58:51.211Z"
   },
   {
    "duration": 0,
    "start_time": "2024-11-19T10:58:51.212Z"
   },
   {
    "duration": 0,
    "start_time": "2024-11-19T10:58:51.213Z"
   },
   {
    "duration": 0,
    "start_time": "2024-11-19T10:58:51.215Z"
   },
   {
    "duration": 0,
    "start_time": "2024-11-19T10:58:51.216Z"
   },
   {
    "duration": 0,
    "start_time": "2024-11-19T10:58:51.216Z"
   },
   {
    "duration": 0,
    "start_time": "2024-11-19T10:58:51.217Z"
   },
   {
    "duration": 0,
    "start_time": "2024-11-19T10:58:51.219Z"
   },
   {
    "duration": 0,
    "start_time": "2024-11-19T10:58:51.220Z"
   },
   {
    "duration": 0,
    "start_time": "2024-11-19T10:58:51.221Z"
   },
   {
    "duration": 0,
    "start_time": "2024-11-19T10:58:51.222Z"
   },
   {
    "duration": 0,
    "start_time": "2024-11-19T10:58:51.223Z"
   },
   {
    "duration": 0,
    "start_time": "2024-11-19T10:58:51.224Z"
   },
   {
    "duration": 0,
    "start_time": "2024-11-19T10:58:51.225Z"
   },
   {
    "duration": 0,
    "start_time": "2024-11-19T10:58:51.226Z"
   },
   {
    "duration": 0,
    "start_time": "2024-11-19T10:58:51.227Z"
   },
   {
    "duration": 0,
    "start_time": "2024-11-19T10:58:51.228Z"
   },
   {
    "duration": 0,
    "start_time": "2024-11-19T10:58:51.229Z"
   },
   {
    "duration": 0,
    "start_time": "2024-11-19T10:58:51.231Z"
   },
   {
    "duration": 0,
    "start_time": "2024-11-19T10:58:51.232Z"
   },
   {
    "duration": 0,
    "start_time": "2024-11-19T10:58:51.234Z"
   },
   {
    "duration": 0,
    "start_time": "2024-11-19T10:58:51.235Z"
   },
   {
    "duration": 0,
    "start_time": "2024-11-19T10:58:51.300Z"
   },
   {
    "duration": 0,
    "start_time": "2024-11-19T10:58:51.302Z"
   },
   {
    "duration": 0,
    "start_time": "2024-11-19T10:58:51.303Z"
   },
   {
    "duration": 0,
    "start_time": "2024-11-19T10:58:51.304Z"
   },
   {
    "duration": 0,
    "start_time": "2024-11-19T10:58:51.306Z"
   },
   {
    "duration": 0,
    "start_time": "2024-11-19T10:58:51.307Z"
   },
   {
    "duration": 0,
    "start_time": "2024-11-19T10:58:51.308Z"
   },
   {
    "duration": 0,
    "start_time": "2024-11-19T10:58:51.310Z"
   },
   {
    "duration": 165,
    "start_time": "2024-11-19T11:04:37.254Z"
   },
   {
    "duration": 1185,
    "start_time": "2024-11-19T11:05:18.240Z"
   },
   {
    "duration": 30,
    "start_time": "2024-11-19T11:05:19.427Z"
   },
   {
    "duration": 29,
    "start_time": "2024-11-19T11:05:19.458Z"
   },
   {
    "duration": 16,
    "start_time": "2024-11-19T11:05:19.489Z"
   },
   {
    "duration": 311,
    "start_time": "2024-11-19T11:05:19.507Z"
   },
   {
    "duration": 362,
    "start_time": "2024-11-19T11:05:19.820Z"
   },
   {
    "duration": 22,
    "start_time": "2024-11-19T11:05:20.185Z"
   },
   {
    "duration": 39,
    "start_time": "2024-11-19T11:05:20.213Z"
   },
   {
    "duration": 31,
    "start_time": "2024-11-19T11:05:20.254Z"
   },
   {
    "duration": 20,
    "start_time": "2024-11-19T11:05:20.288Z"
   },
   {
    "duration": 42,
    "start_time": "2024-11-19T11:05:20.310Z"
   },
   {
    "duration": 29,
    "start_time": "2024-11-19T11:05:20.354Z"
   },
   {
    "duration": 28,
    "start_time": "2024-11-19T11:05:20.385Z"
   },
   {
    "duration": 17,
    "start_time": "2024-11-19T11:05:20.415Z"
   },
   {
    "duration": 32,
    "start_time": "2024-11-19T11:05:20.433Z"
   },
   {
    "duration": 168,
    "start_time": "2024-11-19T11:05:20.467Z"
   },
   {
    "duration": 107,
    "start_time": "2024-11-19T11:05:20.637Z"
   },
   {
    "duration": 6,
    "start_time": "2024-11-19T11:05:20.746Z"
   },
   {
    "duration": 297,
    "start_time": "2024-11-19T11:05:20.753Z"
   },
   {
    "duration": 207,
    "start_time": "2024-11-19T11:05:21.052Z"
   },
   {
    "duration": 10,
    "start_time": "2024-11-19T11:05:21.261Z"
   },
   {
    "duration": 255,
    "start_time": "2024-11-19T11:05:21.273Z"
   },
   {
    "duration": 137,
    "start_time": "2024-11-19T11:05:21.530Z"
   },
   {
    "duration": 9,
    "start_time": "2024-11-19T11:05:21.668Z"
   },
   {
    "duration": 302,
    "start_time": "2024-11-19T11:05:21.678Z"
   },
   {
    "duration": 152,
    "start_time": "2024-11-19T11:05:21.982Z"
   },
   {
    "duration": 33,
    "start_time": "2024-11-19T11:05:22.136Z"
   },
   {
    "duration": 4,
    "start_time": "2024-11-19T11:05:22.173Z"
   },
   {
    "duration": 29,
    "start_time": "2024-11-19T11:05:22.179Z"
   },
   {
    "duration": 35,
    "start_time": "2024-11-19T11:05:22.211Z"
   },
   {
    "duration": 11,
    "start_time": "2024-11-19T11:05:22.253Z"
   },
   {
    "duration": 64,
    "start_time": "2024-11-19T11:05:22.266Z"
   },
   {
    "duration": 8,
    "start_time": "2024-11-19T11:05:22.332Z"
   },
   {
    "duration": 32,
    "start_time": "2024-11-19T11:05:22.342Z"
   },
   {
    "duration": 256,
    "start_time": "2024-11-19T11:05:22.376Z"
   },
   {
    "duration": 7,
    "start_time": "2024-11-19T11:05:22.634Z"
   },
   {
    "duration": 8,
    "start_time": "2024-11-19T11:05:22.643Z"
   },
   {
    "duration": 260,
    "start_time": "2024-11-19T11:05:22.653Z"
   },
   {
    "duration": 908,
    "start_time": "2024-11-19T11:05:22.915Z"
   },
   {
    "duration": 6,
    "start_time": "2024-11-19T11:05:23.825Z"
   },
   {
    "duration": 311,
    "start_time": "2024-11-19T11:05:23.833Z"
   },
   {
    "duration": 25,
    "start_time": "2024-11-19T11:05:24.145Z"
   },
   {
    "duration": 5,
    "start_time": "2024-11-19T11:05:24.171Z"
   },
   {
    "duration": 29,
    "start_time": "2024-11-19T11:05:24.177Z"
   },
   {
    "duration": 8,
    "start_time": "2024-11-19T11:05:24.207Z"
   },
   {
    "duration": 7,
    "start_time": "2024-11-19T11:05:24.217Z"
   },
   {
    "duration": 6,
    "start_time": "2024-11-19T11:05:24.225Z"
   },
   {
    "duration": 16,
    "start_time": "2024-11-19T11:05:24.232Z"
   },
   {
    "duration": 6,
    "start_time": "2024-11-19T11:05:24.249Z"
   },
   {
    "duration": 48,
    "start_time": "2024-11-19T11:05:24.257Z"
   },
   {
    "duration": 9,
    "start_time": "2024-11-19T11:05:24.307Z"
   },
   {
    "duration": 6,
    "start_time": "2024-11-19T11:05:24.318Z"
   },
   {
    "duration": 14,
    "start_time": "2024-11-19T11:05:24.326Z"
   },
   {
    "duration": 18,
    "start_time": "2024-11-19T11:05:24.341Z"
   },
   {
    "duration": 48,
    "start_time": "2024-11-19T11:05:24.361Z"
   },
   {
    "duration": 12,
    "start_time": "2024-11-19T11:05:24.411Z"
   },
   {
    "duration": 13,
    "start_time": "2024-11-19T11:05:24.424Z"
   },
   {
    "duration": 14,
    "start_time": "2024-11-19T11:05:24.438Z"
   },
   {
    "duration": 14,
    "start_time": "2024-11-19T11:05:24.454Z"
   },
   {
    "duration": 9,
    "start_time": "2024-11-19T11:05:24.469Z"
   },
   {
    "duration": 9,
    "start_time": "2024-11-19T11:05:24.500Z"
   },
   {
    "duration": 14,
    "start_time": "2024-11-19T11:05:24.510Z"
   },
   {
    "duration": 779,
    "start_time": "2024-11-19T11:05:24.525Z"
   },
   {
    "duration": 3,
    "start_time": "2024-11-19T11:05:25.306Z"
   },
   {
    "duration": 15,
    "start_time": "2024-11-19T11:05:25.310Z"
   },
   {
    "duration": 158,
    "start_time": "2024-11-19T11:05:25.326Z"
   },
   {
    "duration": 14,
    "start_time": "2024-11-19T11:05:25.486Z"
   },
   {
    "duration": 9,
    "start_time": "2024-11-19T11:05:25.502Z"
   },
   {
    "duration": 800,
    "start_time": "2024-11-19T11:05:25.513Z"
   },
   {
    "duration": 7,
    "start_time": "2024-11-19T11:05:26.314Z"
   }
  ],
  "kernelspec": {
   "display_name": "Python 3 (ipykernel)",
   "language": "python",
   "name": "python3"
  },
  "language_info": {
   "codemirror_mode": {
    "name": "ipython",
    "version": 3
   },
   "file_extension": ".py",
   "mimetype": "text/x-python",
   "name": "python",
   "nbconvert_exporter": "python",
   "pygments_lexer": "ipython3",
   "version": "3.12.4"
  },
  "toc": {
   "base_numbering": 1,
   "nav_menu": {},
   "number_sections": true,
   "sideBar": true,
   "skip_h1_title": true,
   "title_cell": "Table of Contents",
   "title_sidebar": "Contents",
   "toc_cell": false,
   "toc_position": {
    "height": "calc(100% - 180px)",
    "left": "10px",
    "top": "150px",
    "width": "165px"
   },
   "toc_section_display": true,
   "toc_window_display": true
  }
 },
 "nbformat": 4,
 "nbformat_minor": 5
}
